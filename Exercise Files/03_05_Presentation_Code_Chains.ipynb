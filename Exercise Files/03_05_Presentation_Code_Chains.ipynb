{
 "cells": [
  {
   "cell_type": "code",
   "execution_count": null,
   "metadata": {
    "id": "jJ4woOtwtgwj"
   },
   "outputs": [],
   "source": [
    "# %%capture\n",
    "# !pip install langchain==0.1.1 openai==1.8.0 langchain-openai tiktoken faiss-cpu"
   ]
  },
  {
   "cell_type": "code",
   "execution_count": 1,
   "metadata": {
    "id": "3XlX5wnxtosM"
   },
   "outputs": [],
   "source": [
    "import os\n",
    "import getpass\n",
    "from langchain.globals import set_verbose\n",
    "\n",
    "set_verbose(True)"
   ]
  },
  {
   "cell_type": "code",
   "execution_count": 2,
   "metadata": {
    "id": "OiKl90JatrIP"
   },
   "outputs": [
    {
     "name": "stdin",
     "output_type": "stream",
     "text": [
      "Enter Your OpenAI API Key: ········\n"
     ]
    }
   ],
   "source": [
    "os.environ[\"OPENAI_API_KEY\"] = getpass.getpass(\"Enter Your OpenAI API Key:\")"
   ]
  },
  {
   "cell_type": "markdown",
   "metadata": {
    "id": "-zphi0kwtrcj"
   },
   "source": [
    "# ⛓️ What are Chains in LangChain?\n",
    "\n",
    "**In one sentence: A chain is an end-to-end wrapper around multiple individual components which are executed in a defined order.**\n",
    "\n",
    "**Quick Guide to Chains in LangChain:**\n",
    "\n",
    "- Chains link multiple processes in a set sequence to create complex applications.\n",
    "- They're useful for:\n",
    "  - Dividing complicated tasks into simpler steps.\n",
    "  - Maintaining context and memory across different steps.\n",
    "  - Adding custom processing or checks between steps.\n",
    "  - Simplifying the debugging of multi-step operations.\n",
    "\n",
    "**Basic Chain Types:**\n",
    "\n",
    "- **LLMChain**: Combines several language model calls.\n",
    "- **RouterChain**: Directs tasks to different chains based on set conditions.\n",
    "- **SimpleSequentialChain**: Executes chains one after another.\n",
    "- **TransformChain**: Alters data between chain steps.\n",
    "\n",
    "Chains integrate various components into a cohesive flow, enhancing the capabilities and flexibility of language model applications.\n"
   ]
  },
  {
   "cell_type": "markdown",
   "metadata": {
    "id": "BtmweDD2vB0n"
   },
   "source": [
    "# 🗣️ LLMChain\n"
   ]
  },
  {
   "cell_type": "code",
   "execution_count": 5,
   "metadata": {
    "colab": {
     "base_uri": "https://localhost:8080/"
    },
    "executionInfo": {
     "elapsed": 22436,
     "status": "ok",
     "timestamp": 1706244491139,
     "user": {
      "displayName": "Harpreet Sahota",
      "userId": "04881662502078178826"
     },
     "user_tz": 360
    },
    "id": "Lll_FYhPvFKy",
    "outputId": "24f4b29b-044e-402e-dfdb-65ab94445ee6"
   },
   "outputs": [
    {
     "data": {
      "text/plain": [
       "AIMessage(content='(Verse 1)\\nYo, step into my sushi joint, it\\'s a flavor explosion,\\nGot somethin\\' so wild, it\\'ll cause a commotion,\\nIt\\'s green, it\\'s mean, and it\\'s got a kick,\\nWasabi-flavored sake, it\\'s the ultimate pick!\\n\\n(Chorus)\\nWasabi Sake, the fire and the chill,\\nGonna knock you off your feet, make you lose your will,\\nIt\\'s the drink you didn\\'t know you needed tonight,\\nGet ready for a ride, it\\'s a spicy delight!\\n\\n(Verse 2)\\nPour it in a glass, take a sip if you dare,\\nIt’s like a dragon in your throat, but you just don’t care,\\nYour taste buds do the tango, your eyes start to water,\\nYou\\'ll be screamin\\' \"Domo Arigato\" like you caught on fire!\\n\\n(Chorus)\\nWasabi Sake, the fire and the chill,\\nGonna knock you off your feet, make you lose your will,\\nIt\\'s the drink you didn\\'t know you needed tonight,\\nGet ready for a ride, it\\'s a spicy delight!\\n\\n(Bridge)\\nYou think you can handle, you think you’re tough,\\nBut one shot of this, and you’re callin\\' it rough,\\nIt’s the ultimate dare, the thrill of the night,\\nLike a samurai showdown, it’s a fierce fight!\\n\\n(Verse 3)\\nWe got wasabi in the sushi, wasabi in the roll,\\nNow it’s in your sake, takin\\' over your soul,\\nMix it up, stir it up, let it flow smooth,\\nGot you dancin\\' like a fool, in the wasabi groove!\\n\\n(Chorus)\\nWasabi Sake, the fire and the chill,\\nGonna knock you off your feet, make you lose your will,\\nIt\\'s the drink you didn\\'t know you needed tonight,\\nGet ready for a ride, it\\'s a spicy delight!\\n\\n(Outro)\\nSo next time you’re out, lookin\\' for a thrill,\\nDon’t go for the plain, go for the skill,\\nWasabi-flavored sake, it’s the ultimate quest,\\nDrink it if you dare, and put your taste buds to the test!\\n\\n(Wasabi Sake, yeah! Spicy delight, all night!)')"
      ]
     },
     "execution_count": 5,
     "metadata": {},
     "output_type": "execute_result"
    }
   ],
   "source": [
    "from langchain_openai import ChatOpenAI\n",
    "from langchain.prompts import PromptTemplate\n",
    "\n",
    "llm = ChatOpenAI(model_name=\"gpt-4o\")\n",
    "\n",
    "prompt = PromptTemplate(\n",
    "    input_variables=[\"topic\"],\n",
    "    template = \"Write a comedic, parody rap about the following topic: {topic}\"\n",
    ")\n",
    "\n",
    "# using LCEL\n",
    "chain = prompt | llm\n",
    "\n",
    "output = chain.invoke({\"topic\": \"wasabi flavoured saki\"})\n",
    "output"
   ]
  },
  {
   "cell_type": "code",
   "execution_count": 7,
   "metadata": {
    "scrolled": true
   },
   "outputs": [
    {
     "name": "stdout",
     "output_type": "stream",
     "text": [
      "(Verse 1)\n",
      "Yo, step into my sushi joint, it's a flavor explosion,\n",
      "Got somethin' so wild, it'll cause a commotion,\n",
      "It's green, it's mean, and it's got a kick,\n",
      "Wasabi-flavored sake, it's the ultimate pick!\n",
      "\n",
      "(Chorus)\n",
      "Wasabi Sake, the fire and the chill,\n",
      "Gonna knock you off your feet, make you lose your will,\n",
      "It's the drink you didn't know you needed tonight,\n",
      "Get ready for a ride, it's a spicy delight!\n",
      "\n",
      "(Verse 2)\n",
      "Pour it in a glass, take a sip if you dare,\n",
      "It’s like a dragon in your throat, but you just don’t care,\n",
      "Your taste buds do the tango, your eyes start to water,\n",
      "You'll be screamin' \"Domo Arigato\" like you caught on fire!\n",
      "\n",
      "(Chorus)\n",
      "Wasabi Sake, the fire and the chill,\n",
      "Gonna knock you off your feet, make you lose your will,\n",
      "It's the drink you didn't know you needed tonight,\n",
      "Get ready for a ride, it's a spicy delight!\n",
      "\n",
      "(Bridge)\n",
      "You think you can handle, you think you’re tough,\n",
      "But one shot of this, and you’re callin' it rough,\n",
      "It’s the ultimate dare, the thrill of the night,\n",
      "Like a samurai showdown, it’s a fierce fight!\n",
      "\n",
      "(Verse 3)\n",
      "We got wasabi in the sushi, wasabi in the roll,\n",
      "Now it’s in your sake, takin' over your soul,\n",
      "Mix it up, stir it up, let it flow smooth,\n",
      "Got you dancin' like a fool, in the wasabi groove!\n",
      "\n",
      "(Chorus)\n",
      "Wasabi Sake, the fire and the chill,\n",
      "Gonna knock you off your feet, make you lose your will,\n",
      "It's the drink you didn't know you needed tonight,\n",
      "Get ready for a ride, it's a spicy delight!\n",
      "\n",
      "(Outro)\n",
      "So next time you’re out, lookin' for a thrill,\n",
      "Don’t go for the plain, go for the skill,\n",
      "Wasabi-flavored sake, it’s the ultimate quest,\n",
      "Drink it if you dare, and put your taste buds to the test!\n",
      "\n",
      "(Wasabi Sake, yeah! Spicy delight, all night!)\n"
     ]
    }
   ],
   "source": [
    "print(output.content)"
   ]
  },
  {
   "cell_type": "code",
   "execution_count": 8,
   "metadata": {
    "colab": {
     "base_uri": "https://localhost:8080/",
     "height": 196
    },
    "executionInfo": {
     "elapsed": 21605,
     "status": "ok",
     "timestamp": 1706244550016,
     "user": {
      "displayName": "Harpreet Sahota",
      "userId": "04881662502078178826"
     },
     "user_tz": 360
    },
    "id": "LiO0D9-BGQgG",
    "outputId": "b4490a6c-1842-4f67-9dd9-fa769dea6569",
    "scrolled": true
   },
   "outputs": [
    {
     "name": "stdout",
     "output_type": "stream",
     "text": [
      "(Verse 1)\n",
      "Yo, step into the kitchen, it's a culinary mission,\n",
      "Got that wasabi flavoured saki, it's the latest edition.\n",
      "Blazin' like a rocket, it's a hot kinda drink,\n",
      "Mix it up in your cup, don't just sip it, take a chug and think.\n",
      "\n",
      "(Chorus)\n",
      "Wasabi saki, oh it's so hot,\n",
      "Sippin' on fire, give it all you got.\n",
      "Wasabi saki, burnin' up the spot,\n",
      "Feelin' that heat, it's a flavor jackpot.\n",
      "\n",
      "(Verse 2)\n",
      "Pour a little bit, you'll feel the spicy kiss,\n",
      "Like a ninja in your throat, can't handle this bliss.\n",
      "Saki samurai, with a green kick punch,\n",
      "Have you sweatin' up a storm when you're drinkin' at lunch.\n",
      "\n",
      "(Bridge)\n",
      "Yo, sushi on the side, we takin' a ride,\n",
      "With wasabi saki, don't try to hide.\n",
      "It's a flavor explosion, a tongue vacation,\n",
      "Hotter than a sauna, it's a taste sensation.\n",
      "\n",
      "(Chorus)\n",
      "Wasabi saki, oh it's so hot,\n",
      "Sippin' on fire, give it all you got.\n",
      "Wasabi saki, burnin' up the spot,\n",
      "Feelin' that heat, it's a flavor jackpot.\n",
      "\n",
      "(Verse 3)\n",
      "Get your friends together, make it a night,\n",
      "Wasabi saki party, it's a fiery delight.\n",
      "From the first sip down to the last drop,\n",
      "You'll be dancin' in the flames, can't make it stop.\n",
      "\n",
      "(Outro)\n",
      "So raise your glass high, let’s toast to the heat,\n",
      "Wasabi flavoured saki, it’s the ultimate treat.\n",
      "Whether you’re bold or just a little bit crazy,\n",
      "This drink’s gonna keep your night hazy and spicy.\n",
      "\n",
      "(Chorus)\n",
      "Wasabi saki, oh it's so hot,\n",
      "Sippin' on fire, give it all you got.\n",
      "Wasabi saki, burnin' up the spot,\n",
      "Feelin' that heat, it's a flavor jackpot.\n",
      "\n",
      "Yeah, that wasabi saki, baby!\n"
     ]
    }
   ],
   "source": [
    "from langchain.schema import StrOutputParser\n",
    "\n",
    "chain = prompt | llm | StrOutputParser()\n",
    "\n",
    "print(chain.invoke({\"topic\": \"wasabi flavoured saki\"}))"
   ]
  },
  {
   "cell_type": "code",
   "execution_count": 9,
   "metadata": {
    "executionInfo": {
     "elapsed": 270,
     "status": "ok",
     "timestamp": 1706244648356,
     "user": {
      "displayName": "Harpreet Sahota",
      "userId": "04881662502078178826"
     },
     "user_tz": 360
    },
    "id": "tB8dFubBEzh1"
   },
   "outputs": [],
   "source": [
    "from langchain.prompts import ChatPromptTemplate\n",
    "from langchain.schema import StrOutputParser\n",
    "\n",
    "prompt = ChatPromptTemplate.from_messages(\n",
    "    [\n",
    "        (\"system\", \"You are PaRappa the Rapper. You spit hot fire flows like lava.\"),\n",
    "        (\"human\", \"Write a comedic, parody rap about the following topic: {topic}\"),\n",
    "    ]\n",
    ")\n",
    "\n",
    "runnable = prompt | llm | StrOutputParser()"
   ]
  },
  {
   "cell_type": "code",
   "execution_count": 10,
   "metadata": {
    "colab": {
     "base_uri": "https://localhost:8080/"
    },
    "executionInfo": {
     "elapsed": 27857,
     "status": "ok",
     "timestamp": 1706244681764,
     "user": {
      "displayName": "Harpreet Sahota",
      "userId": "04881662502078178826"
     },
     "user_tz": 360
    },
    "id": "ifpL3PgOEzuL",
    "outputId": "2a527c1b-037f-41f4-ac2d-dd4be66fd6e3"
   },
   "outputs": [
    {
     "name": "stdout",
     "output_type": "stream",
     "text": [
      "(Verse 1)\n",
      "Yo, it's PaRappa in the house, let me set the scene,\n",
      "Got a hot new drink, it's the craziest thing you've seen,\n",
      "Wasabi flavored saki, yeah, it's fire and ice,\n",
      "Gonna make you laugh, but you might pay the price!\n",
      "\n",
      "(Chorus)\n",
      "Wasabi saki, feel the burn, feel the chill,\n",
      "It's a rollercoaster ride, you know it’s a thrill,\n",
      "Spicy and smooth, it's the ultimate blend,\n",
      "Take a sip, my friend, and start the weekend!\n",
      "\n",
      "(Verse 2)\n",
      "Now you’re at the bar, and you’re feeling all classy,\n",
      "But that green bottle's got you thinking, \"Is this nasty?\"\n",
      "Bartender's smirking, says, \"Give it a try,\"\n",
      "You take a little sip and you’re reaching for the sky!\n",
      "\n",
      "(Chorus)\n",
      "Wasabi saki, feel the burn, feel the chill,\n",
      "It's a rollercoaster ride, you know it’s a thrill,\n",
      "Spicy and smooth, it's the ultimate blend,\n",
      "Take a sip, my friend, and start the weekend!\n",
      "\n",
      "(Bridge)\n",
      "Your mouth's on fire, but your soul’s feeling cool,\n",
      "It’s a yin-yang thing, man, don’t be a fool,\n",
      "The heat’s so intense, you think you might cry,\n",
      "But then you’re laughing hard, and you don't know why!\n",
      "\n",
      "(Verse 3)\n",
      "Now you're telling stories, feeling all brave,\n",
      "Thanks to that wasabi saki, you misbehave,\n",
      "Dancing on tables, doing the worm,\n",
      "Wasabi saki’s got you feeling confirmed!\n",
      "\n",
      "(Chorus)\n",
      "Wasabi saki, feel the burn, feel the chill,\n",
      "It's a rollercoaster ride, you know it’s a thrill,\n",
      "Spicy and smooth, it's the ultimate blend,\n",
      "Take a sip, my friend, and start the weekend!\n",
      "\n",
      "(Outro)\n",
      "So next time you’re out and you wanna feel funky,\n",
      "Ask for wasabi saki, it’s the ultimate monkey,\n",
      "On your back, in your mouth, it's a crazy ride,\n",
      "But you’ll never forget it, it’s a point of pride!\n",
      "\n",
      "Wasabi saki, yeah, it’s the way to go,\n",
      "PaRappa out, just wanted you to know!\n"
     ]
    }
   ],
   "source": [
    "print(runnable.invoke({\"topic\": \"wasabi flavoured saki\"}))"
   ]
  },
  {
   "cell_type": "code",
   "execution_count": 11,
   "metadata": {
    "colab": {
     "base_uri": "https://localhost:8080/"
    },
    "executionInfo": {
     "elapsed": 23685,
     "status": "ok",
     "timestamp": 1706244722213,
     "user": {
      "displayName": "Harpreet Sahota",
      "userId": "04881662502078178826"
     },
     "user_tz": 360
    },
    "id": "_3A_EUOxEz2M",
    "outputId": "263dc14f-c68d-40b2-a530-f5b7f32467e8"
   },
   "outputs": [
    {
     "name": "stdout",
     "output_type": "stream",
     "text": [
      "(Verse 1)\n",
      "Yo, it's PaRappa in the house, with a flavor so risky,\n",
      "Got my cup filled up with that wasabi saki.\n",
      "It's green and mean, got me feelin' kinda frisky,\n",
      "One sip too quick, now my nose is gettin' misty.\n",
      "\n",
      "(Chorus)\n",
      "Wasabi saki, feel the burn, y'all,\n",
      "It's like a spicy dragon breathin' fire in the hall.\n",
      "Wasabi saki, take it slow, y'all,\n",
      "One too many sips and you'll be crawlin' up the wall.\n",
      "\n",
      "(Verse 2)\n",
      "Took a shot with my boys, thought I was a samurai,\n",
      "But this wasabi saki made me wanna cry.\n",
      "Eyes watery, face red like a beet,\n",
      "I was dancin' like a fool, couldn't stay on my feet.\n",
      "\n",
      "(Chorus)\n",
      "Wasabi saki, feel the burn, y'all,\n",
      "It's like a spicy dragon breathin' fire in the hall.\n",
      "Wasabi saki, take it slow, y'all,\n",
      "One too many sips and you'll be crawlin' up the wall.\n",
      "\n",
      "(Bridge)\n",
      "Yo, I thought I was tough, thought I could handle the heat,\n",
      "But this wasabi saki knocked me outta my seat.\n",
      "It's a wild ride, like a rollercoaster of fire,\n",
      "Got me singin' these rhymes like a spicy town crier.\n",
      "\n",
      "(Verse 3)\n",
      "Now I'm wiser, keep my sips nice and steady,\n",
      "Wasabi saki, man, you gotta be ready.\n",
      "It's a crazy combo, but it’s kinda unique,\n",
      "Just remember to respect it, or it'll hit you like a freak.\n",
      "\n",
      "(Chorus)\n",
      "Wasabi saki, feel the burn, y'all,\n",
      "It's like a spicy dragon breathin' fire in the hall.\n",
      "Wasabi saki, take it slow, y'all,\n",
      "One too many sips and you'll be crawlin' up the wall.\n",
      "\n",
      "(Outro)\n",
      "So if you’re feelin' brave, go ahead and take a shot,\n",
      "But don’t say I didn't warn ya, 'cause it’s really hot.\n",
      "Wasabi saki, it's a party in your mouth,\n",
      "Just be prepared for the fire to head south!"
     ]
    }
   ],
   "source": [
    "for chunk in runnable.stream({\"topic\": \"wasabi flavoured saki\"}):\n",
    "    print(chunk, end=\"\", flush=True)"
   ]
  },
  {
   "cell_type": "markdown",
   "metadata": {
    "id": "i0dwPLvUwTYz"
   },
   "source": [
    "# 🔄 **Understanding Routing in LangChain**\n",
    "\n",
    "### **Routing Concept**\n",
    "- **Purpose**: Adds structure to interactions with LLMs by guiding the flow based on previous step outcomes.\n",
    "\n",
    "- **Essence**: Determines the next step in a chain dynamically, based on the result of the previous step.\n",
    "\n",
    "### **Methods for Routing**\n",
    "1. ᛘ **RunnableBranch Usage**:\n",
    "   - Manages decision-making for the next step in a chain.\n",
    "\n",
    "2. 🏭 **Custom Factory Function**:\n",
    "   - Crafts a runnable based on previous step input.\n",
    "\n",
    "   - Crucial: The function should only create a runnable, not execute it.\n",
    "\n",
    "### **Example Application**\n",
    "- **Two-Step Sequence**:\n",
    "\n",
    "  - **Step 1**: Classifies a question into categories (literature, history, biology, philosophy, or other).\n",
    "\n",
    "  - **Step 2**: Routes the classified question to a corresponding prompt chain tailored for the identified category.\n",
    "\n",
    "🎯 **Application Goal**: Showcase both routing methods in a practical scenario to enhance interactions with language models."
   ]
  },
  {
   "cell_type": "code",
   "execution_count": 12,
   "metadata": {
    "executionInfo": {
     "elapsed": 332,
     "status": "ok",
     "timestamp": 1706244818254,
     "user": {
      "displayName": "Harpreet Sahota",
      "userId": "04881662502078178826"
     },
     "user_tz": 360
    },
    "id": "9_aARhy9ybL9"
   },
   "outputs": [],
   "source": [
    "from langchain_openai import ChatOpenAI\n",
    "from langchain_core.output_parsers import StrOutputParser\n",
    "from langchain_core.runnables import RunnableBranch\n",
    "\n",
    "# ChatOpenAI(model_name=\"gpt-4o\")\n",
    "\n",
    "literature_template = \"\"\"You are a seasoned literature professor with decades of experience analyzing literary works. \\\n",
    "You have a knack for understanding complex narratives and characters and can provide insights into underlying themes and motifs.\n",
    "\n",
    "Here is a passage or question about a literary work:\n",
    "{input}\n",
    "\"\"\"\n",
    "\n",
    "literature_prompt = PromptTemplate.from_template(literature_template)\n",
    "\n",
    "\n",
    "history_template = \"\"\"You are a historian with extensive knowledge about world history. \\\n",
    "From ancient civilizations to modern times, you can provide context, insights, and explanations about historical events and figures.\n",
    "\n",
    "Here is a question about history:\n",
    "{input}\n",
    "\"\"\"\n",
    "\n",
    "history_prompt = PromptTemplate.from_template(history_template)\n",
    "\n",
    "biology_template = \"\"\"You are a biologist with a passion for understanding the intricacies of life. \\\n",
    "From cellular processes to ecosystem dynamics, you can elucidate biological phenomena with clarity.\n",
    "\n",
    "Here is a question about biology:\n",
    "{input}\n",
    "\"\"\"\n",
    "\n",
    "biology_prompt = PromptTemplate.from_template(biology_template)\n",
    "\n",
    "philosophy_template = \"\"\"You are a philosopher who has studied the great thinkers of the past and present. \\\n",
    "You enjoy discussing ethical dilemmas, existential questions, and the nature of reality.\n",
    "\n",
    "Here is a philosophical query:\n",
    "{input}\n",
    "\"\"\"\n",
    "\n",
    "philosophy_prompt = PromptTemplate.from_template(philosophy_template)\n",
    "\n",
    "general_prompt = PromptTemplate.from_template(\n",
    "    \"You are a helpful assistant. Answer the question as accurately as you can.\\n\\n{input}\"\n",
    ")\n"
   ]
  },
  {
   "cell_type": "markdown",
   "metadata": {
    "id": "kjkUH7xcHaWv"
   },
   "source": [
    "# 🌿 **RunnableBranch Mechanics**\n",
    "\n",
    "1. **Structure**: A list of (condition, runnable) pairs, plus a default runnable.\n",
    "\n",
    "2. **Operation**\n",
    "   - On invocation, sequentially evaluates each condition with the given input.\n",
    "\n",
    "   - Executes the first runnable where its condition is True.\n",
    "   \n",
    "   - If no condition matches, the default runnable is executed.\n",
    "\n",
    "🔍 **Purpose**: Ensures structured decision-making in chain execution, directing the flow based on specific conditions."
   ]
  },
  {
   "cell_type": "code",
   "execution_count": 15,
   "metadata": {
    "executionInfo": {
     "elapsed": 113,
     "status": "ok",
     "timestamp": 1706244867458,
     "user": {
      "displayName": "Harpreet Sahota",
      "userId": "04881662502078178826"
     },
     "user_tz": 360
    },
    "id": "S62nIyacHae2"
   },
   "outputs": [],
   "source": [
    "prompt_branch = RunnableBranch(\n",
    "    (lambda x: x[\"topic\"] == \"literature\", literature_prompt),\n",
    "    (lambda x: x[\"topic\"] == \"history\", history_prompt),\n",
    "    (lambda x: x[\"topic\"] == \"biology\", biology_prompt),\n",
    "    (lambda x: x[\"topic\"] == \"philosophy\", philosophy_prompt),\n",
    "    general_prompt,\n",
    ")"
   ]
  },
  {
   "cell_type": "code",
   "execution_count": 17,
   "metadata": {
    "colab": {
     "base_uri": "https://localhost:8080/"
    },
    "executionInfo": {
     "elapsed": 492,
     "status": "ok",
     "timestamp": 1706244922968,
     "user": {
      "displayName": "Harpreet Sahota",
      "userId": "04881662502078178826"
     },
     "user_tz": 360
    },
    "id": "VIrz7w3ELSD_",
    "outputId": "b3eb5a65-a53c-4560-9f9c-7bb53fe70216"
   },
   "outputs": [
    {
     "data": {
      "text/plain": [
       "{'name': 'TopicClassifier',\n",
       " 'description': 'Classify the topic of the user question',\n",
       " 'parameters': {'type': 'object',\n",
       "  'properties': {'topic': {'enum': ['literature',\n",
       "     'history',\n",
       "     'biology',\n",
       "     'philosophy'],\n",
       "    'type': 'string'}},\n",
       "  'required': ['topic']}}"
      ]
     },
     "execution_count": 17,
     "metadata": {},
     "output_type": "execute_result"
    }
   ],
   "source": [
    "from typing import Literal\n",
    "from langchain.output_parsers.openai_functions import PydanticAttrOutputFunctionsParser\n",
    "from langchain.utils.openai_functions import convert_pydantic_to_openai_function\n",
    "from langchain_core.pydantic_v1 import BaseModel\n",
    "\n",
    "class TopicClassifier(BaseModel):\n",
    "    \"Classify the topic of the user question\"\n",
    "\n",
    "    topic: Literal[\"literature\", \"history\", \"biology\", \"philosophy\"]\n",
    "    \"The topic of the user question. One of 'literature', 'history', 'biology', 'philosophy', or 'general'.\"\n",
    "\n",
    "\n",
    "classifier_function = convert_pydantic_to_openai_function(TopicClassifier)\n",
    "classifier_function"
   ]
  },
  {
   "cell_type": "code",
   "execution_count": 18,
   "metadata": {
    "colab": {
     "base_uri": "https://localhost:8080/"
    },
    "executionInfo": {
     "elapsed": 492,
     "status": "ok",
     "timestamp": 1706244922968,
     "user": {
      "displayName": "Harpreet Sahota",
      "userId": "04881662502078178826"
     },
     "user_tz": 360
    },
    "id": "VIrz7w3ELSD_",
    "outputId": "b3eb5a65-a53c-4560-9f9c-7bb53fe70216"
   },
   "outputs": [],
   "source": [
    "llm = ChatOpenAI(model_name=\"gpt-4o\")\n",
    "\n",
    "llm = llm.bind(\n",
    "    functions=[classifier_function],\n",
    "    function_call={\"name\": \"TopicClassifier\"}\n",
    ")\n",
    "\n",
    "parser = PydanticAttrOutputFunctionsParser(pydantic_schema=TopicClassifier, attr_name=\"topic\" )\n",
    "\n",
    "classifier_chain = llm | parser"
   ]
  },
  {
   "cell_type": "code",
   "execution_count": 20,
   "metadata": {
    "executionInfo": {
     "elapsed": 400,
     "status": "ok",
     "timestamp": 1706244974389,
     "user": {
      "displayName": "Harpreet Sahota",
      "userId": "04881662502078178826"
     },
     "user_tz": 360
    },
    "id": "d8QCPo7wLSJj"
   },
   "outputs": [],
   "source": [
    "from operator import itemgetter\n",
    "from langchain_core.output_parsers import StrOutputParser\n",
    "from langchain_core.runnables import RunnablePassthrough\n",
    "\n",
    "final_chain = (\n",
    "    RunnablePassthrough.assign(topic=itemgetter(\"input\") | classifier_chain)\n",
    "    | prompt_branch\n",
    "    | ChatOpenAI(model_name=\"gpt-4o\")\n",
    "    | StrOutputParser()\n",
    ")"
   ]
  },
  {
   "cell_type": "code",
   "execution_count": 21,
   "metadata": {
    "id": "ti_eKCs_LSO7"
   },
   "outputs": [
    {
     "data": {
      "text/plain": [
       "\"The Stoic philosophy, originating in ancient Greece and later flourishing in Rome, provides a rich framework for understanding what constitutes a good life. Central to Stoicism is the belief that a good life is one lived in accordance with nature and reason. Here are some key tenets of Stoic philosophy:\\n\\n1. **Virtue is the Highest Good:**\\n   Stoics believe that virtue (arete) is the only true good and is both necessary and sufficient for eudaimonia (flourishing or the good life). Virtue consists of wisdom, courage, justice, and temperance. Living virtuously means aligning one's actions and character with these ideals.\\n\\n2. **Living in Accordance with Nature:**\\n   According to Stoicism, living in harmony with nature means understanding the natural order of the world and our place within it. This involves recognizing that we are part of a larger, interconnected whole and that our rational nature is a reflection of the rational order of the cosmos.\\n\\n3. **The Dichotomy of Control:**\\n   One of the most practical aspects of Stoic philosophy is the distinction between what is within our control and what is not. Our actions, judgments, and desires are within our control, whereas external events and the actions of others are not. A good life involves focusing on what we can control and accepting what we cannot with equanimity.\\n\\n4. **Indifference to Externals:**\\n   Stoics maintain that external things such as wealth, health, and social status are indifferent (adiaphora). While these things can be preferred or dispreferred, they are not inherently good or bad. What matters is how we respond to them. A Stoic strives to remain indifferent to external circumstances and maintains a steady character regardless of external conditions.\\n\\n5. **Emotional Resilience:**\\n   Stoicism teaches that our emotions are the result of our judgments. By changing our judgments about what is good or bad, we can achieve emotional resilience. This involves practicing apatheia, a state of being free from irrational and destructive passions, while still experiencing appropriate emotions.\\n\\n6. **Mindfulness and Reflection:**\\n   Daily practices of mindfulness, such as meditation and reflective journaling, were recommended by Stoic philosophers like Marcus Aurelius and Seneca. These practices help individuals cultivate self-awareness, assess their actions, and align their daily lives with their philosophical principles.\\n\\n7. **Community and Cosmopolitanism:**\\n   Stoicism emphasizes the importance of social relationships and our duty to others. As rational beings, we are part of a universal community and have a responsibility to treat others with justice and compassion. The Stoic concept of cosmopolitanism suggests that all humans are citizens of the world and should work toward the common good.\\n\\nBy internalizing these principles, a Stoic aims to live a life of tranquility, moral integrity, and fulfillment. The Stoic path is not about achieving happiness through external means but about cultivating a robust inner life that remains steadfast through the vicissitudes of existence.\""
      ]
     },
     "execution_count": 21,
     "metadata": {},
     "output_type": "execute_result"
    }
   ],
   "source": [
    "final_chain.invoke({\"input\": \"Describe the Stoic philosophy for a good life.\"})"
   ]
  },
  {
   "cell_type": "code",
   "execution_count": 22,
   "metadata": {
    "colab": {
     "base_uri": "https://localhost:8080/"
    },
    "executionInfo": {
     "elapsed": 34125,
     "status": "ok",
     "timestamp": 1706245088878,
     "user": {
      "displayName": "Harpreet Sahota",
      "userId": "04881662502078178826"
     },
     "user_tz": 360
    },
    "id": "6ifOurTtIG0c",
    "outputId": "cd16d12e-6b50-4853-ccb0-16ac63fa3603"
   },
   "outputs": [
    {
     "name": "stdout",
     "output_type": "stream",
     "text": [
      "Stoic philosophy, originating from ancient Greece and Rome, particularly through the works of thinkers like Zeno of Citium, Seneca, Epictetus, and Marcus Aurelius, offers a profound and practical framework for living a good life. At its core, Stoicism emphasizes the development of personal virtue and wisdom as the path to true happiness and tranquility. Here are some key principles of Stoic philosophy for a good life:\n",
      "\n",
      "1. **Virtue as the Highest Good**:\n",
      "   According to Stoicism, virtue is the only true good. Virtue encompasses wisdom, courage, justice, and temperance. Stoics believe that living a virtuous life aligns us with our rational nature and the rational order of the universe. This alignment leads to eudaimonia, often translated as flourishing or the highest form of happiness.\n",
      "\n",
      "2. **Focus on What You Can Control**:\n",
      "   One of the central tenets of Stoic thought is the dichotomy of control. Stoics teach that we should distinguish between what is within our control (our own thoughts, actions, and responses) and what is not (external events, other people's actions, and outcomes). By focusing on our own behaviors and attitudes, we can maintain inner peace regardless of external circumstances.\n",
      "\n",
      "3. **Acceptance of Fate (Amor Fati)**:\n",
      "   Stoics advocate for acceptance of the natural order and events as they unfold. This concept, often referred to as \"amor fati\" or love of fate, encourages embracing everything that happens, not merely tolerating it. By accepting that we cannot change certain events, we reduce unnecessary suffering and cultivate resilience.\n",
      "\n",
      "4. **Living in Accordance with Nature**:\n",
      "   Stoicism teaches that living in harmony with nature and reason leads to a good life. This means understanding our place in the world, recognizing the interconnectedness of all things, and acting in accordance with our rational and social nature. It involves striving for balance and moderation.\n",
      "\n",
      "5. **Practicing Mindfulness and Reflection**:\n",
      "   Stoics emphasize the importance of self-awareness and reflective practice. Regularly examining one’s thoughts, actions, and motivations helps cultivate wisdom and self-improvement. Practices like journaling, contemplation, and meditation on philosophical principles are encouraged.\n",
      "\n",
      "6. **Emotional Resilience (Apatheia)**:\n",
      "   Apatheia, often misunderstood as emotional suppression, actually refers to a state of being undisturbed by irrational passions. Stoics aim to develop emotional resilience by understanding that our judgments about events, rather than the events themselves, cause our distress. By cultivating rational responses, we can achieve tranquility.\n",
      "\n",
      "7. **Community and Social Duty**:\n",
      "   Stoicism is not a solitary pursuit; it involves recognizing our roles and responsibilities within the broader community. Stoics advocate for acting justly, contributing to society, and fostering relationships based on mutual respect and virtue.\n",
      "\n",
      "8. **Memento Mori**:\n",
      "   Reflecting on mortality is a common Stoic practice. By contemplating the transient nature of life, Stoics aim to live more fully and prioritize what truly matters. This perspective encourages gratitude, humility, and a focus on the present moment.\n",
      "\n",
      "In summary, the Stoic philosophy for a good life is about cultivating inner virtue, focusing on what we can control, accepting the natural flow of life, and contributing positively to society. It offers practical tools for achieving resilience, tranquility, and fulfillment in a complex world."
     ]
    }
   ],
   "source": [
    "for chunk in final_chain.stream({\"input\": \"Describe the Stoic philosophy for a good life.\"}):\n",
    "    print(chunk, end=\"\", flush=True)"
   ]
  },
  {
   "cell_type": "markdown",
   "metadata": {
    "id": "bzfm_z1c4pTT"
   },
   "source": [
    "# 🧬 Sequential Chains\n",
    "\n",
    "**Basics of Sequential Chains:**\n",
    "\n",
    "- Sequential chains are for when you need one language model's output to become another's input.\n",
    "- They're like an assembly line, where each step's result is the starting point for the next.\n"
   ]
  },
  {
   "cell_type": "code",
   "execution_count": 24,
   "metadata": {
    "executionInfo": {
     "elapsed": 499,
     "status": "ok",
     "timestamp": 1706245244286,
     "user": {
      "displayName": "Harpreet Sahota",
      "userId": "04881662502078178826"
     },
     "user_tz": 360
    },
    "id": "t6eQg6SZVb2G"
   },
   "outputs": [],
   "source": [
    "from langchain_openai import ChatOpenAI\n",
    "from langchain.prompts import PromptTemplate\n",
    "from langchain.schema import StrOutputParser\n",
    "\n",
    "# Initialize the language model\n",
    "llm = ChatOpenAI(model_name=\"gpt-4o\")\n",
    "\n",
    "# Template for the initial rap\n",
    "template_one = \"\"\"\n",
    "You are a Punjabi Jatt rapper, like AP Dhillon or Sidhu Moosewala.\n",
    "\n",
    "Given a topic, it is your job to spit bars of hard-hitting, gritty, dope rap.\n",
    "\n",
    "Topic: {topic}\n",
    "\n",
    "Rap:\n",
    "\"\"\"\n",
    "\n",
    "# Template for the diss track\n",
    "template_two = \"\"\"\n",
    "You are an extremely competitive Punjabi Rapper.\n",
    "\n",
    "Given the rap from another rapper, it's your job to write a diss track which\n",
    "tears apart the rap and shames the original rapper.\n",
    "\n",
    "Rap:\n",
    "{rap}\n",
    "\"\"\"\n",
    "\n",
    "# Create prompt templates from the defined templates\n",
    "prompt_template_one = PromptTemplate.from_template(template_one)\n",
    "prompt_template_two = PromptTemplate.from_template(template_two)"
   ]
  },
  {
   "cell_type": "code",
   "execution_count": 25,
   "metadata": {
    "executionInfo": {
     "elapsed": 499,
     "status": "ok",
     "timestamp": 1706245244286,
     "user": {
      "displayName": "Harpreet Sahota",
      "userId": "04881662502078178826"
     },
     "user_tz": 360
    },
    "id": "t6eQg6SZVb2G"
   },
   "outputs": [],
   "source": [
    "# Define the operation chain\n",
    "chain = (\n",
    "    {\"rap\": prompt_template_one | llm | StrOutputParser()}\n",
    "    | prompt_template_two\n",
    "    | llm\n",
    "    | StrOutputParser()\n",
    ")"
   ]
  },
  {
   "cell_type": "code",
   "execution_count": 26,
   "metadata": {
    "id": "dewp-fH2W4jp"
   },
   "outputs": [
    {
     "data": {
      "text/plain": [
       "\"Yo, listen up, it's time to put an end to this charade,\\nYou call yourself a rapper, but your rhymes are just a shade,\\nOf what real bars should be, man, you're just a masquerade,\\nStep aside, let me school you on this diss parade.\\n\\nRed Challenger, huh? You think you're a big deal,\\nBut your rhymes are weak, can't even feel the real steel,\\nSippin' Crown Royal, man, that's just a cheap thrill,\\nStep into my lane, I'll show you how to kill.\\n\\nCruisin' through the streets, you think you're a star,\\nBut your flow's so basic, you ain't goin' far,\\nPunjabi vibes? More like Punjabi lies,\\nYour Western swagger's faker than your alibis.\\n\\nTalkin' 'bout achievements, but what have you done?\\nJust another wannabe, tryna act like the one,\\nEngine roarin' loud? More like a kitten's purr,\\nMobbin' through the city? Man, that's just a blur.\\n\\nRed Challenger's a head-turner? More like a joke,\\nPunjabi blood, fire? Man, you just blowin' smoke,\\nSidhu Moosewala vibes? Don't even try to compare,\\nYour flow's so weak, it's like you ain't even there.\\n\\nAP Dhillon style? Man, you ain't got the stripes,\\nJust another poser, tryna live the hype,\\nWindows down, feel the breeze, but you ain't cool,\\nCrown Royal got you feelin' right? Man, you're just a fool.\\n\\nFrom the pind to the city, you ain't makin' waves,\\nJust another fake, caught up in your own craze,\\nChallenger's your chariot? Man, you're just a phase,\\nCrown Royal sippin'? More like sippin' on your own haze.\\n\\nRaise your glass, toast to the night? Nah, toast to your defeat,\\nMobbin' in the Challenger? Man, take a back seat,\\nCrown Royal in your veins? More like sugar and deceit,\\nPunjabi Jatt anthem? Man, you can't compete.\\n\\nSo step aside, let the real rapper take the mic,\\nShow you how it's done, with bars that strike,\\nPunjabi pride, yeah, we shine so bright,\\nBut you ain't part of this, so say goodnight.\""
      ]
     },
     "execution_count": 26,
     "metadata": {},
     "output_type": "execute_result"
    }
   ],
   "source": [
    "chain.invoke({\"topic\": \"Drinking Crown Royal and mobbin in my red Challenger\"})"
   ]
  },
  {
   "cell_type": "code",
   "execution_count": 28,
   "metadata": {
    "colab": {
     "base_uri": "https://localhost:8080/"
    },
    "executionInfo": {
     "elapsed": 37357,
     "status": "ok",
     "timestamp": 1706245315289,
     "user": {
      "displayName": "Harpreet Sahota",
      "userId": "04881662502078178826"
     },
     "user_tz": 360
    },
    "id": "ADgrDDqkW4uD",
    "outputId": "ddf2ce79-9d0c-472b-c381-0f3740a50999"
   },
   "outputs": [
    {
     "name": "stdout",
     "output_type": "stream",
     "text": [
      "ਹਾਂ, ਤੇਰਾ ਵੱਖਰਾ ਸਟਾਈਲ, ਪਰ ਕੋਈ ਵੀ ਨਹੀਂ ਖਾਸ,  \n",
      "Crown Royal ਪੀ ਕੇ ਫਿਰੇਂ, ਬਸ ਖਾਲੀ ਜਜ਼ਬਾਤ।  \n",
      "ਰਾਤਾਂ ਲੰਬੀਆਂ ਤੇ ਦੌੜ ਤੂੰ ਦੱਸੇ,  \n",
      "ਪਰ ਤੇਰੇ ਰਿਥਮ 'ਚ ਤਾਂ ਕੋਈ ਵੀ ਨਾ ਬੱਸੇ।\n",
      "\n",
      "Red Challenger 'ਚ ਸੱਜਣਾਂ ਦੇ ਨਾਲ ਤੂੰ ਪਾਸ,  \n",
      "ਪਰ ਸੱਚੀ ਗੱਲ ਏ, ਤੇਰੀ ਮਸ਼ਹੂਰੀ ਹੋਈ ਫਾਸ।  \n",
      "ਰਾਤ ਦੇ ਹਨੇਰੇ 'ਚ ਚਮਕਦੀ ਤੇਰੀ ਲਾਲ ਰਥ,  \n",
      "ਪਰ ਤੇਰੀ ਆਵਾਜ਼ 'ਚ ਨਾ ਕੋਈ ਵੀ ਸਖਤ।\n",
      "\n",
      "ਸਿੰਗਲ ਮਾਲਟ ਦੇ ਸਿੱਪ ਨਾਲ ਤੂੰ ਬਨੇ ਲੋਕਾਂ ਦਾ ਯਾਰ,  \n",
      "ਪਰ ਤੇਰੀ ਗੱਲਾਂ ਸੁਣ ਕੇ ਸਭ ਬੰਦੇ ਹੁੰਦੇ ਬੇਕਾਰ।  \n",
      "ਸੜਕਾਂ ਤੰਗ ਨੇ ਤੇ ਦਿਲ ਹੈ ਖੁੱਲ੍ਹਾ,  \n",
      "ਪਰ ਸੱਚੀ ਗੱਲ ਏ, ਤੇਰੀ ਯਾਰੀ ਹੈ ਸੁੱਲਾ।\n",
      "\n",
      "ਸਪੀਡ ਨਾਲ ਖੇਲਦੇ ਬਿਨਾ ਕਿਸੇ ਡਰ ਦੇ,  \n",
      "ਪਰ ਤੇਰੇ ਚਾਲ 'ਚ ਵੀ ਨਾ ਕੋਈ ਆਸਰ ਦੇ।  \n",
      "ਸਬ ਨੂੰ ਪਤਾ ਤੇਰਾ ਸਟਾਈਲ ਕਿੰਨਾ ਫੇਕ,  \n",
      "ਜੱਟ Crown Royal ਨਾਲ, ਬਾਨ੍ਹੇ ਬਸ ਦੇਖ।\n",
      "\n",
      "ਹਾਂ, ਤੇਰਾ ਰਿਥਮ ਤੇ ਤੇਰਾ ਸਟਾਈਲ ਹੈ ਫੇਕ,  \n",
      "ਹਰ ਗੱਲ 'ਚ ਤੇਰੀ ਮਾਰਕ ਬਸ ਕਾਗਜ਼ ਦਾ ਟੇਕ।  \n",
      "ਸੜਕਾਂ ਦੇ ਰਾਜੇ ਬਣਨ ਦੀ ਆਰਜ਼ੂ,  \n",
      "ਪਰ ਸੱਚੀ ਗੱਲ ਏ, ਤੂੰ ਬਸ ਇੱਕ ਫ਼ਰਜ਼ੀ ਚਾਰਜ਼ੂ।\n",
      "\n",
      "Red Challenger ਦਾ ਰੌਲਾ ਨਹੀਂ ਥੱਲੇ ਤੱਕ ਪਹੁੰਚਦਾ,  \n",
      "ਸਾਡੇ ਦਿਲ ਦਾ ਸ਼ੋਰ ਤੇਰੇ ਵੱਧ ਮਾਰਕਾ ਨੂੰ ਲੁੱਕਦਾ।  \n",
      "ਸਾਡੀ ਗੱਲ ਰੱਖਣੀ ਸੱਚੀ ਤੇਰੀ ਜੇਹੀ ਨਹੀਂ,  \n",
      "ਸਾਡਾ ਰੌਲਾ ਬਸ ਪੱਕਾ, ਤੇਰਾ ਕਾਗਜ਼ੀ ਰਾਹੀਂ।"
     ]
    }
   ],
   "source": [
    "for chunk in chain.stream({\"topic\": \"Drinking Crown Royal and mobbin in my red Challenger\"}):\n",
    "    print(chunk, end=\"\", flush=True)"
   ]
  },
  {
   "cell_type": "markdown",
   "metadata": {
    "id": "xn-XNgA7W971"
   },
   "source": [
    "# 🔄 **Transformation in Component Chains**\n",
    "\n",
    "🔧 **Role of Transformation**:\n",
    "   - Adjusts inputs as they transition between different components.\n",
    "\n",
    "🌟 **Example Scenario**:\n",
    "   - **Task**: Handle a lengthy text.\n",
    "   - **Transformation**: Filter to retain only the first three paragraphs.\n",
    "   - **Next Steps**: Pass the shortened text through a series of steps for summarization.\n",
    "\n",
    "🎯 **Goal**: Demonstrates how transformations can effectively tailor inputs for specific processing needs in a component chain."
   ]
  },
  {
   "cell_type": "code",
   "execution_count": 32,
   "metadata": {
    "colab": {
     "base_uri": "https://localhost:8080/"
    },
    "executionInfo": {
     "elapsed": 615,
     "status": "ok",
     "timestamp": 1706245365005,
     "user": {
      "displayName": "Harpreet Sahota",
      "userId": "04881662502078178826"
     },
     "user_tz": 360
    },
    "id": "4gNRBkSkV_x-",
    "outputId": "d229490a-e9bb-4b4d-d735-ed70f58040ca"
   },
   "outputs": [
    {
     "name": "stdout",
     "output_type": "stream",
     "text": [
      "--2024-05-15 14:12:31--  https://www.gutenberg.org/files/2680/2680-0.txt\n",
      "Resolving www.gutenberg.org (www.gutenberg.org)... 152.19.134.47\n",
      "Connecting to www.gutenberg.org (www.gutenberg.org)|152.19.134.47|:443... connected.\n",
      "HTTP request sent, awaiting response... 200 OK\n",
      "Length: 425351 (415K) [text/plain]\n",
      "Saving to: ‘2680-0.txt.1’\n",
      "\n",
      "2680-0.txt.1        100%[===================>] 415.38K  38.3KB/s    in 11s     \n",
      "\n",
      "2024-05-15 14:12:43 (38.3 KB/s) - ‘2680-0.txt.1’ saved [425351/425351]\n",
      "\n"
     ]
    }
   ],
   "source": [
    "!wget https://www.gutenberg.org/files/2680/2680-0.txt\n",
    "\n",
    "with open(\"2680-0.txt\") as f:\n",
    "    meditations = f.read()"
   ]
  },
  {
   "cell_type": "code",
   "execution_count": 33,
   "metadata": {
    "colab": {
     "base_uri": "https://localhost:8080/",
     "height": 196
    },
    "executionInfo": {
     "elapsed": 11236,
     "status": "ok",
     "timestamp": 1706245466787,
     "user": {
      "displayName": "Harpreet Sahota",
      "userId": "04881662502078178826"
     },
     "user_tz": 360
    },
    "id": "WFDBXGhAYnRh",
    "outputId": "6cb6d9a7-0760-4153-83c5-970b091aaab7"
   },
   "outputs": [
    {
     "data": {
      "text/plain": [
       "\"The text emphasizes living a life of integrity, purpose, and rationality, reflecting Roman and philosophical ideals. It advises focusing on essential virtues such as gravity, affection, freedom, and justice, and dismissing trivial concerns. It stresses that happiness is self-dependent and not based on others' perceptions. The text warns against external distractions and highlights the importance of having a clear purpose. It emphasizes understanding the universe and one’s role within it, acknowledging the natural order, and recognizing the insignificance of material concerns. Furthermore, it contrasts sins of lust with sins of anger, asserting that the former is driven by a more shameful lack of self-control. The text encourages living each moment as if it were the last, without fear of death, trusting in divine providence. It concludes by reflecting on the transient nature of worldly things and the importance of understanding one's connection to God and the universe.\""
      ]
     },
     "execution_count": 33,
     "metadata": {},
     "output_type": "execute_result"
    }
   ],
   "source": [
    "from langchain.schema import StrOutputParser\n",
    "from langchain_openai import ChatOpenAI\n",
    "from langchain.prompts import PromptTemplate\n",
    "\n",
    "prompt = PromptTemplate.from_template(\"\"\"Summarize this text: {output_text} Summary:\"\"\")\n",
    "\n",
    "runnable = (\n",
    "    {\"output_text\": lambda text: \"\\n\".join(text.split(\"\\n\")[921:1021])}\n",
    "    | prompt\n",
    "    | ChatOpenAI(model_name=\"gpt-4o\")\n",
    "    | StrOutputParser()\n",
    ")\n",
    "runnable.invoke(meditations)"
   ]
  },
  {
   "cell_type": "code",
   "execution_count": 34,
   "metadata": {
    "colab": {
     "base_uri": "https://localhost:8080/",
     "height": 196
    },
    "executionInfo": {
     "elapsed": 30489,
     "status": "ok",
     "timestamp": 1706245524443,
     "user": {
      "displayName": "Harpreet Sahota",
      "userId": "04881662502078178826"
     },
     "user_tz": 360
    },
    "id": "lEyaXrcUWCDv",
    "outputId": "c52e634f-6cc8-4410-e431-964040b95748"
   },
   "outputs": [
    {
     "data": {
      "text/plain": [
       "\"II. Yo, listen up, my homies, as true Gs and real men, we gotta handle our biz with straight-up respect, love, freedom, and justice. Forget about all them petty worries and wild thoughts. Just think every move you make is your last, no cap. Keep it real, no faking, no selfishness, and no hating on what life throws your way. You see, living that fly life ain't complicated; the gods only ask for us to keep it 100 and stick to these truths.\\n\\nIII. Yo, soul, quit clowning and disrespecting yourself. Time's ticking, and soon you'll be outta chances to show yourself some love. Your happiness is in your hands, but you're almost outta time, chasing validation from others instead of focusing on your own grind.\\n\\nIV. Why you letting the outside noise mess with your head? Take a break and learn something good. Stop wandering aimlessly. Beware of another kind of drifting—those who hustle without a goal, they're just lost in the grind.\\n\\nV. Ain't nobody unhappy just 'cause they ain't peeping someone else's soul. Tell 'em straight: if they ain't guiding their moves with reason, they're bound for misery.\\n\\nVI. Always keep this in mind: what's the universe about, and what's your role in it? Nobody can stop you from doing and saying what's true to your nature.\\n\\nVII. Theophrastus, my man, he was right. Sins from lust are worse than those from anger. Anger shows a bit of pain and pulling away from reason, but lust? That's just giving in to pleasure, showing weakness. So yeah, lustful sins are more deserving of criticism than angry ones, 'cause the angry dude might've been wronged first, but the lustful one just chose to go down that road.\\n\\nVIII. Whatever you're feeling, whatever your plans, do it all like you might check outta this life any minute. If there are gods, they won't screw you over. If there ain't, or they don't care, why would you wanna live in a godless world? But for sure, the gods are real and they care. They've left the real bad stuff—vice and wickedness—in our control to avoid. If anything else was truly bad, they would've made sure we could dodge that too. So don't trip over what can't make you better or worse as a person. The universe didn't slip up; it didn't let good and bad things happen randomly. Life and death, honor and shame, work and pleasure, money and poverty—they happen to everyone, but they're not good or bad by themselves.\\n\\nIX. Think about how everything breaks down: bodies back into the earth and memories fading into time. All these worldly things, the ones that trap you with pleasure, scare you with pain, or dazzle you with looks—they're all trash, temporary, and fake.\\n\\nX. A smart homie knows what those folks really are, the ones you think give you honor and credit. Understand what dying really is. Strip away the fears and see it as just another natural process. If you're scared of nature, you're acting like a kid. Death is part of nature's plan, and it's all good for us.\\n\\nXI. Reflect on how man connects with God, and how your soul reacts when it's said to spread out. Ain't nothing sadder than a soul that searches everywhere but never finds peace.\""
      ]
     },
     "execution_count": 34,
     "metadata": {},
     "output_type": "execute_result"
    }
   ],
   "source": [
    "rephrase = PromptTemplate.from_template(\"\"\"Rephrase this text: {output_text}\n",
    "In the style of a 90s gangster rapper passionately speaking to his homies.\n",
    "Rephrased:\"\"\")\n",
    "\n",
    "runnable = (\n",
    "    {\"output_text\": lambda text: \"\\n\".join(text.split(\"\\n\")[921:1021])}\n",
    "    | rephrase\n",
    "    | ChatOpenAI(model_name=\"gpt-4o\")\n",
    "    | StrOutputParser()\n",
    ")\n",
    "\n",
    "runnable.invoke(meditations)"
   ]
  },
  {
   "cell_type": "code",
   "execution_count": 35,
   "metadata": {
    "id": "j6tXuEVXKBOm"
   },
   "outputs": [
    {
     "name": "stdout",
     "output_type": "stream",
     "text": [
      "II. Yo, listen up, my homies, as true Gs and real men, we gotta handle our biz with straight-up respect, love, freedom, and justice. Forget about all them petty worries and wild thoughts. Just think every move you make is your last, no cap. Keep it real, no faking, no selfishness, and no hating on what life throws your way. You see, living that fly life ain't complicated; the gods only ask for us to keep it 100 and stick to these truths.\n",
      "\n",
      "III. Yo, soul, quit clowning and disrespecting yourself. Time's ticking, and soon you'll be outta chances to show yourself some love. Your happiness is in your hands, but you're almost outta time, chasing validation from others instead of focusing on your own grind.\n",
      "\n",
      "IV. Why you letting the outside noise mess with your head? Take a break and learn something good. Stop wandering aimlessly. Beware of another kind of drifting—those who hustle without a goal, they're just lost in the grind.\n",
      "\n",
      "V. Ain't nobody unhappy just 'cause they ain't peeping someone else's soul. Tell 'em straight: if they ain't guiding their moves with reason, they're bound for misery.\n",
      "\n",
      "VI. Always keep this in mind: what's the universe about, and what's your role in it? Nobody can stop you from doing and saying what's true to your nature.\n",
      "\n",
      "VII. Theophrastus, my man, he was right. Sins from lust are worse than those from anger. Anger shows a bit of pain and pulling away from reason, but lust? That's just giving in to pleasure, showing weakness. So yeah, lustful sins are more deserving of criticism than angry ones, 'cause the angry dude might've been wronged first, but the lustful one just chose to go down that road.\n",
      "\n",
      "VIII. Whatever you're feeling, whatever your plans, do it all like you might check outta this life any minute. If there are gods, they won't screw you over. If there ain't, or they don't care, why would you wanna live in a godless world? But for sure, the gods are real and they care. They've left the real bad stuff—vice and wickedness—in our control to avoid. If anything else was truly bad, they would've made sure we could dodge that too. So don't trip over what can't make you better or worse as a person. The universe didn't slip up; it didn't let good and bad things happen randomly. Life and death, honor and shame, work and pleasure, money and poverty—they happen to everyone, but they're not good or bad by themselves.\n",
      "\n",
      "IX. Think about how everything breaks down: bodies back into the earth and memories fading into time. All these worldly things, the ones that trap you with pleasure, scare you with pain, or dazzle you with looks—they're all trash, temporary, and fake.\n",
      "\n",
      "X. A smart homie knows what those folks really are, the ones you think give you honor and credit. Understand what dying really is. Strip away the fears and see it as just another natural process. If you're scared of nature, you're acting like a kid. Death is part of nature's plan, and it's all good for us.\n",
      "\n",
      "XI. Reflect on how man connects with God, and how your soul reacts when it's said to spread out. Ain't nothing sadder than a soul that searches everywhere but never finds peace.\n"
     ]
    }
   ],
   "source": [
    "print(\"II. Yo, listen up, my homies, as true Gs and real men, we gotta handle our biz with straight-up respect, love, freedom, and justice. Forget about all them petty worries and wild thoughts. Just think every move you make is your last, no cap. Keep it real, no faking, no selfishness, and no hating on what life throws your way. You see, living that fly life ain't complicated; the gods only ask for us to keep it 100 and stick to these truths.\\n\\nIII. Yo, soul, quit clowning and disrespecting yourself. Time's ticking, and soon you'll be outta chances to show yourself some love. Your happiness is in your hands, but you're almost outta time, chasing validation from others instead of focusing on your own grind.\\n\\nIV. Why you letting the outside noise mess with your head? Take a break and learn something good. Stop wandering aimlessly. Beware of another kind of drifting—those who hustle without a goal, they're just lost in the grind.\\n\\nV. Ain't nobody unhappy just 'cause they ain't peeping someone else's soul. Tell 'em straight: if they ain't guiding their moves with reason, they're bound for misery.\\n\\nVI. Always keep this in mind: what's the universe about, and what's your role in it? Nobody can stop you from doing and saying what's true to your nature.\\n\\nVII. Theophrastus, my man, he was right. Sins from lust are worse than those from anger. Anger shows a bit of pain and pulling away from reason, but lust? That's just giving in to pleasure, showing weakness. So yeah, lustful sins are more deserving of criticism than angry ones, 'cause the angry dude might've been wronged first, but the lustful one just chose to go down that road.\\n\\nVIII. Whatever you're feeling, whatever your plans, do it all like you might check outta this life any minute. If there are gods, they won't screw you over. If there ain't, or they don't care, why would you wanna live in a godless world? But for sure, the gods are real and they care. They've left the real bad stuff—vice and wickedness—in our control to avoid. If anything else was truly bad, they would've made sure we could dodge that too. So don't trip over what can't make you better or worse as a person. The universe didn't slip up; it didn't let good and bad things happen randomly. Life and death, honor and shame, work and pleasure, money and poverty—they happen to everyone, but they're not good or bad by themselves.\\n\\nIX. Think about how everything breaks down: bodies back into the earth and memories fading into time. All these worldly things, the ones that trap you with pleasure, scare you with pain, or dazzle you with looks—they're all trash, temporary, and fake.\\n\\nX. A smart homie knows what those folks really are, the ones you think give you honor and credit. Understand what dying really is. Strip away the fears and see it as just another natural process. If you're scared of nature, you're acting like a kid. Death is part of nature's plan, and it's all good for us.\\n\\nXI. Reflect on how man connects with God, and how your soul reacts when it's said to spread out. Ain't nothing sadder than a soul that searches everywhere but never finds peace.\")"
   ]
  },
  {
   "cell_type": "code",
   "execution_count": 37,
   "metadata": {},
   "outputs": [
    {
     "name": "stdout",
     "output_type": "stream",
     "text": [
      "**Yo, check it, fam, gather 'round and listen up. This is some deep knowledge from the core of the earth, dig? We got folks out here trying to peep into the souls of others, thinking they slick, but they missin' the real deal. The truth is, all a man needs to do is focus on his own spirit, keepin’ it pure and real. Serve that inner self with dedication, stay calm, avoid all that drama and negativity, and don’t trip on what the gods or other folks throw at you. Respect the divine for their greatness and show love to your fellow man, even when they act a fool, ‘cause ignorance is like not knowin' black from white. Feel me?\n",
      "\n",
      "Yo, time is a trip. Whether you live 3,000 years or just a handful, remember, you only lose the moment you're living in. Past and future? They ain't yours to lose. The present is what counts, and it’s equal for everyone. When you die, it's just a moment passing. Everything in the universe, from the beginning, keeps on spinning in the same cycle. Whether you see it for a hundred years or forever, it’s all the same game. And remember this: the life you got is all about right now, no matter how long or short it is.\n",
      "\n",
      "Listen up, homie, everything is about perception. What you think is what you get. Don't get twisted by what others say. Take the truth and the good from it, and roll with that.\n",
      "\n",
      "Your soul, man, it disrespects itself when it gets all gunked up with anger, envy, or lies. Stay true to yourself, don’t front, and always move with a purpose. Do what’s right, follow the laws of the universe, and be a righteous citizen of this massive cosmic hood.\n",
      "\n",
      "Life, it’s like a blink. Our bodies, always changing, our minds restless, fortune fickle, and fame fleeting. Life’s a battle, a journey. When it’s all said and done, what sticks with you? Philosophy. It’s about keeping your inner peace, staying above pain and pleasure, being real, and accepting your fate with a smile. Death ain’t nothing but elements going back to where they came from. If nature rolls like that, why should we fear it? Ain’t nothing natural that can be bad.\n",
      "\n",
      "Yo, when I was out in the streets of Carnuntum, I learned some things. Life keeps ticking away, and even if you live long, your mind might fade before your body does. So, hustle now, ‘cause time ain’t waiting. The mind, it fades, but your actions, man, they need to be on point.\n",
      "\n",
      "Think about it: everything that happens naturally has its own beauty, even if it’s not perfect. A split loaf of bread, a withered fig, a ripe olive—they all got their charm. Look at the world deeply, and you’ll see beauty in the most unexpected places.\n",
      "\n",
      "Legends like Hippocrates, the Chaldeans, Alexander, Pompeius—they all met their end, just like everyone else. Death don’t discriminate, and neither should you. When your time comes, it’s just another step in the cycle. Accept it, don't fear it.\n",
      "\n",
      "Stop stressing over what others are doing. Focus on your own game. Keep your thoughts clean and straightforward, like a man made for society, not for chasing pleasures or getting caught up in petty drama. Be your own priest, pure and undaunted by life’s ups and downs. Accept your fate, work for the common good, and remember, the only thing that’s truly yours is your mind and actions.\n",
      "\n",
      "Don’t do anything against your will or without thinking it through. Keep your speech straightforward, your actions just, and live ready to bounce when your time is up. Be independent and cheerful, needing nothing from others.\n",
      "\n",
      "Stick to what’s real and true, and don’t let anything superficial distract you. If you find something better than justice, truth, temperance, and fortitude, go for it. But if not, stay true to your inner spirit. Don’t let external things drag you down.\n",
      "\n",
      "Never compromise your principles for anything that makes you break your faith, lose your modesty, or hate others. Keep your spirit above all injuries and pleasures, and live in harmony with yourself and the universe.\n",
      "\n",
      "Remember, everything is connected. The universe is one big city, and we’re all citizens. Your understanding comes from the same source as everyone else’s. Death is just a return to the elements, nothing to fear. Everything happens as it should, so roll with it.\n",
      "\n",
      "Keep your mind sharp, free from distraction, and focused on what’s right. Live your life with justice, truth, and kindness, and be ready to meet death with a calm and cheerful heart. The world is a stage, and you’re here to play your part, so do it well and leave the rest to the universe. Peace out."
     ]
    }
   ],
   "source": [
    "rephrase = PromptTemplate.from_template(\"\"\"Rephrase this text: {output_text}\n",
    "In the style of a 90s gangster rapper passionately speaking to his homies.\n",
    "Rephrased:\"\"\")\n",
    "\n",
    "runnable = (\n",
    "    {\"output_text\": lambda text: \"\\n\".join(text.split(\"\\n\")[1021:2021])}\n",
    "    | rephrase\n",
    "    | ChatOpenAI(model_name=\"gpt-4o\")\n",
    "    | StrOutputParser()\n",
    ")\n",
    "\n",
    "for chunk in runnable.stream(meditations):\n",
    "    print(chunk, end=\"\", flush=True)\n",
    "# runnable.invoke(meditations)"
   ]
  },
  {
   "cell_type": "code",
   "execution_count": null,
   "metadata": {},
   "outputs": [],
   "source": []
  }
 ],
 "metadata": {
  "colab": {
   "authorship_tag": "ABX9TyP+8mavBZskonsqEd3nSqGs",
   "provenance": []
  },
  "kernelspec": {
   "display_name": "Python 3 (ipykernel)",
   "language": "python",
   "name": "python3"
  },
  "language_info": {
   "codemirror_mode": {
    "name": "ipython",
    "version": 3
   },
   "file_extension": ".py",
   "mimetype": "text/x-python",
   "name": "python",
   "nbconvert_exporter": "python",
   "pygments_lexer": "ipython3",
   "version": "3.10.0"
  }
 },
 "nbformat": 4,
 "nbformat_minor": 4
}
