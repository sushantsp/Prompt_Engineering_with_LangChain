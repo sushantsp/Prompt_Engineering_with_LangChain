{
 "cells": [
  {
   "cell_type": "code",
   "execution_count": null,
   "metadata": {
    "id": "jJ4woOtwtgwj"
   },
   "outputs": [],
   "source": [
    "# %%capture\n",
    "# !pip install langchain==0.1.1 openai==1.8.0 langchain-openai tiktoken faiss-cpu"
   ]
  },
  {
   "cell_type": "code",
   "execution_count": 1,
   "metadata": {
    "id": "3XlX5wnxtosM"
   },
   "outputs": [],
   "source": [
    "import os\n",
    "import getpass\n",
    "from langchain.globals import set_verbose\n",
    "\n",
    "set_verbose(True)"
   ]
  },
  {
   "cell_type": "code",
   "execution_count": 2,
   "metadata": {
    "id": "OiKl90JatrIP"
   },
   "outputs": [
    {
     "name": "stdin",
     "output_type": "stream",
     "text": [
      "Enter Your OpenAI API Key: ········\n"
     ]
    }
   ],
   "source": [
    "os.environ[\"OPENAI_API_KEY\"] = getpass.getpass(\"Enter Your OpenAI API Key:\")"
   ]
  },
  {
   "cell_type": "markdown",
   "metadata": {
    "id": "-zphi0kwtrcj"
   },
   "source": [
    "# ⛓️ What are Chains in LangChain?\n",
    "\n",
    "**In one sentence: A chain is an end-to-end wrapper around multiple individual components which are executed in a defined order.**\n",
    "\n",
    "**Quick Guide to Chains in LangChain:**\n",
    "\n",
    "- Chains link multiple processes in a set sequence to create complex applications.\n",
    "- They're useful for:\n",
    "  - Dividing complicated tasks into simpler steps.\n",
    "  - Maintaining context and memory across different steps.\n",
    "  - Adding custom processing or checks between steps.\n",
    "  - Simplifying the debugging of multi-step operations.\n",
    "\n",
    "**Basic Chain Types:**\n",
    "\n",
    "- **LLMChain**: Combines several language model calls.\n",
    "- **RouterChain**: Directs tasks to different chains based on set conditions.\n",
    "- **SimpleSequentialChain**: Executes chains one after another.\n",
    "- **TransformChain**: Alters data between chain steps.\n",
    "\n",
    "Chains integrate various components into a cohesive flow, enhancing the capabilities and flexibility of language model applications.\n"
   ]
  },
  {
   "cell_type": "markdown",
   "metadata": {
    "id": "BtmweDD2vB0n"
   },
   "source": [
    "# 🗣️ LLMChain\n"
   ]
  },
  {
   "cell_type": "code",
   "execution_count": 5,
   "metadata": {
    "colab": {
     "base_uri": "https://localhost:8080/"
    },
    "executionInfo": {
     "elapsed": 22436,
     "status": "ok",
     "timestamp": 1706244491139,
     "user": {
      "displayName": "Harpreet Sahota",
      "userId": "04881662502078178826"
     },
     "user_tz": 360
    },
    "id": "Lll_FYhPvFKy",
    "outputId": "24f4b29b-044e-402e-dfdb-65ab94445ee6"
   },
   "outputs": [
    {
     "data": {
      "text/plain": [
       "AIMessage(content='(Verse 1)\\nYo, step into my sushi joint, it\\'s a flavor explosion,\\nGot somethin\\' so wild, it\\'ll cause a commotion,\\nIt\\'s green, it\\'s mean, and it\\'s got a kick,\\nWasabi-flavored sake, it\\'s the ultimate pick!\\n\\n(Chorus)\\nWasabi Sake, the fire and the chill,\\nGonna knock you off your feet, make you lose your will,\\nIt\\'s the drink you didn\\'t know you needed tonight,\\nGet ready for a ride, it\\'s a spicy delight!\\n\\n(Verse 2)\\nPour it in a glass, take a sip if you dare,\\nIt’s like a dragon in your throat, but you just don’t care,\\nYour taste buds do the tango, your eyes start to water,\\nYou\\'ll be screamin\\' \"Domo Arigato\" like you caught on fire!\\n\\n(Chorus)\\nWasabi Sake, the fire and the chill,\\nGonna knock you off your feet, make you lose your will,\\nIt\\'s the drink you didn\\'t know you needed tonight,\\nGet ready for a ride, it\\'s a spicy delight!\\n\\n(Bridge)\\nYou think you can handle, you think you’re tough,\\nBut one shot of this, and you’re callin\\' it rough,\\nIt’s the ultimate dare, the thrill of the night,\\nLike a samurai showdown, it’s a fierce fight!\\n\\n(Verse 3)\\nWe got wasabi in the sushi, wasabi in the roll,\\nNow it’s in your sake, takin\\' over your soul,\\nMix it up, stir it up, let it flow smooth,\\nGot you dancin\\' like a fool, in the wasabi groove!\\n\\n(Chorus)\\nWasabi Sake, the fire and the chill,\\nGonna knock you off your feet, make you lose your will,\\nIt\\'s the drink you didn\\'t know you needed tonight,\\nGet ready for a ride, it\\'s a spicy delight!\\n\\n(Outro)\\nSo next time you’re out, lookin\\' for a thrill,\\nDon’t go for the plain, go for the skill,\\nWasabi-flavored sake, it’s the ultimate quest,\\nDrink it if you dare, and put your taste buds to the test!\\n\\n(Wasabi Sake, yeah! Spicy delight, all night!)')"
      ]
     },
     "execution_count": 5,
     "metadata": {},
     "output_type": "execute_result"
    }
   ],
   "source": [
    "from langchain_openai import ChatOpenAI\n",
    "from langchain.prompts import PromptTemplate\n",
    "\n",
    "llm = ChatOpenAI(model_name=\"gpt-4o\")\n",
    "\n",
    "prompt = PromptTemplate(\n",
    "    input_variables=[\"topic\"],\n",
    "    template = \"Write a comedic, parody rap about the following topic: {topic}\"\n",
    ")\n",
    "\n",
    "# using LCEL\n",
    "chain = prompt | llm\n",
    "\n",
    "output = chain.invoke({\"topic\": \"wasabi flavoured saki\"})\n",
    "output"
   ]
  },
  {
   "cell_type": "code",
   "execution_count": 7,
   "metadata": {
    "scrolled": true
   },
   "outputs": [
    {
     "name": "stdout",
     "output_type": "stream",
     "text": [
      "(Verse 1)\n",
      "Yo, step into my sushi joint, it's a flavor explosion,\n",
      "Got somethin' so wild, it'll cause a commotion,\n",
      "It's green, it's mean, and it's got a kick,\n",
      "Wasabi-flavored sake, it's the ultimate pick!\n",
      "\n",
      "(Chorus)\n",
      "Wasabi Sake, the fire and the chill,\n",
      "Gonna knock you off your feet, make you lose your will,\n",
      "It's the drink you didn't know you needed tonight,\n",
      "Get ready for a ride, it's a spicy delight!\n",
      "\n",
      "(Verse 2)\n",
      "Pour it in a glass, take a sip if you dare,\n",
      "It’s like a dragon in your throat, but you just don’t care,\n",
      "Your taste buds do the tango, your eyes start to water,\n",
      "You'll be screamin' \"Domo Arigato\" like you caught on fire!\n",
      "\n",
      "(Chorus)\n",
      "Wasabi Sake, the fire and the chill,\n",
      "Gonna knock you off your feet, make you lose your will,\n",
      "It's the drink you didn't know you needed tonight,\n",
      "Get ready for a ride, it's a spicy delight!\n",
      "\n",
      "(Bridge)\n",
      "You think you can handle, you think you’re tough,\n",
      "But one shot of this, and you’re callin' it rough,\n",
      "It’s the ultimate dare, the thrill of the night,\n",
      "Like a samurai showdown, it’s a fierce fight!\n",
      "\n",
      "(Verse 3)\n",
      "We got wasabi in the sushi, wasabi in the roll,\n",
      "Now it’s in your sake, takin' over your soul,\n",
      "Mix it up, stir it up, let it flow smooth,\n",
      "Got you dancin' like a fool, in the wasabi groove!\n",
      "\n",
      "(Chorus)\n",
      "Wasabi Sake, the fire and the chill,\n",
      "Gonna knock you off your feet, make you lose your will,\n",
      "It's the drink you didn't know you needed tonight,\n",
      "Get ready for a ride, it's a spicy delight!\n",
      "\n",
      "(Outro)\n",
      "So next time you’re out, lookin' for a thrill,\n",
      "Don’t go for the plain, go for the skill,\n",
      "Wasabi-flavored sake, it’s the ultimate quest,\n",
      "Drink it if you dare, and put your taste buds to the test!\n",
      "\n",
      "(Wasabi Sake, yeah! Spicy delight, all night!)\n"
     ]
    }
   ],
   "source": [
    "print(output.content)"
   ]
  },
  {
   "cell_type": "code",
   "execution_count": 8,
   "metadata": {
    "colab": {
     "base_uri": "https://localhost:8080/",
     "height": 196
    },
    "executionInfo": {
     "elapsed": 21605,
     "status": "ok",
     "timestamp": 1706244550016,
     "user": {
      "displayName": "Harpreet Sahota",
      "userId": "04881662502078178826"
     },
     "user_tz": 360
    },
    "id": "LiO0D9-BGQgG",
    "outputId": "b4490a6c-1842-4f67-9dd9-fa769dea6569",
    "scrolled": true
   },
   "outputs": [
    {
     "name": "stdout",
     "output_type": "stream",
     "text": [
      "(Verse 1)\n",
      "Yo, step into the kitchen, it's a culinary mission,\n",
      "Got that wasabi flavoured saki, it's the latest edition.\n",
      "Blazin' like a rocket, it's a hot kinda drink,\n",
      "Mix it up in your cup, don't just sip it, take a chug and think.\n",
      "\n",
      "(Chorus)\n",
      "Wasabi saki, oh it's so hot,\n",
      "Sippin' on fire, give it all you got.\n",
      "Wasabi saki, burnin' up the spot,\n",
      "Feelin' that heat, it's a flavor jackpot.\n",
      "\n",
      "(Verse 2)\n",
      "Pour a little bit, you'll feel the spicy kiss,\n",
      "Like a ninja in your throat, can't handle this bliss.\n",
      "Saki samurai, with a green kick punch,\n",
      "Have you sweatin' up a storm when you're drinkin' at lunch.\n",
      "\n",
      "(Bridge)\n",
      "Yo, sushi on the side, we takin' a ride,\n",
      "With wasabi saki, don't try to hide.\n",
      "It's a flavor explosion, a tongue vacation,\n",
      "Hotter than a sauna, it's a taste sensation.\n",
      "\n",
      "(Chorus)\n",
      "Wasabi saki, oh it's so hot,\n",
      "Sippin' on fire, give it all you got.\n",
      "Wasabi saki, burnin' up the spot,\n",
      "Feelin' that heat, it's a flavor jackpot.\n",
      "\n",
      "(Verse 3)\n",
      "Get your friends together, make it a night,\n",
      "Wasabi saki party, it's a fiery delight.\n",
      "From the first sip down to the last drop,\n",
      "You'll be dancin' in the flames, can't make it stop.\n",
      "\n",
      "(Outro)\n",
      "So raise your glass high, let’s toast to the heat,\n",
      "Wasabi flavoured saki, it’s the ultimate treat.\n",
      "Whether you’re bold or just a little bit crazy,\n",
      "This drink’s gonna keep your night hazy and spicy.\n",
      "\n",
      "(Chorus)\n",
      "Wasabi saki, oh it's so hot,\n",
      "Sippin' on fire, give it all you got.\n",
      "Wasabi saki, burnin' up the spot,\n",
      "Feelin' that heat, it's a flavor jackpot.\n",
      "\n",
      "Yeah, that wasabi saki, baby!\n"
     ]
    }
   ],
   "source": [
    "from langchain.schema import StrOutputParser\n",
    "\n",
    "chain = prompt | llm | StrOutputParser()\n",
    "\n",
    "print(chain.invoke({\"topic\": \"wasabi flavoured saki\"}))"
   ]
  },
  {
   "cell_type": "code",
   "execution_count": 9,
   "metadata": {
    "executionInfo": {
     "elapsed": 270,
     "status": "ok",
     "timestamp": 1706244648356,
     "user": {
      "displayName": "Harpreet Sahota",
      "userId": "04881662502078178826"
     },
     "user_tz": 360
    },
    "id": "tB8dFubBEzh1"
   },
   "outputs": [],
   "source": [
    "from langchain.prompts import ChatPromptTemplate\n",
    "from langchain.schema import StrOutputParser\n",
    "\n",
    "prompt = ChatPromptTemplate.from_messages(\n",
    "    [\n",
    "        (\"system\", \"You are PaRappa the Rapper. You spit hot fire flows like lava.\"),\n",
    "        (\"human\", \"Write a comedic, parody rap about the following topic: {topic}\"),\n",
    "    ]\n",
    ")\n",
    "\n",
    "runnable = prompt | llm | StrOutputParser()"
   ]
  },
  {
   "cell_type": "code",
   "execution_count": 10,
   "metadata": {
    "colab": {
     "base_uri": "https://localhost:8080/"
    },
    "executionInfo": {
     "elapsed": 27857,
     "status": "ok",
     "timestamp": 1706244681764,
     "user": {
      "displayName": "Harpreet Sahota",
      "userId": "04881662502078178826"
     },
     "user_tz": 360
    },
    "id": "ifpL3PgOEzuL",
    "outputId": "2a527c1b-037f-41f4-ac2d-dd4be66fd6e3"
   },
   "outputs": [
    {
     "name": "stdout",
     "output_type": "stream",
     "text": [
      "(Verse 1)\n",
      "Yo, it's PaRappa in the house, let me set the scene,\n",
      "Got a hot new drink, it's the craziest thing you've seen,\n",
      "Wasabi flavored saki, yeah, it's fire and ice,\n",
      "Gonna make you laugh, but you might pay the price!\n",
      "\n",
      "(Chorus)\n",
      "Wasabi saki, feel the burn, feel the chill,\n",
      "It's a rollercoaster ride, you know it’s a thrill,\n",
      "Spicy and smooth, it's the ultimate blend,\n",
      "Take a sip, my friend, and start the weekend!\n",
      "\n",
      "(Verse 2)\n",
      "Now you’re at the bar, and you’re feeling all classy,\n",
      "But that green bottle's got you thinking, \"Is this nasty?\"\n",
      "Bartender's smirking, says, \"Give it a try,\"\n",
      "You take a little sip and you’re reaching for the sky!\n",
      "\n",
      "(Chorus)\n",
      "Wasabi saki, feel the burn, feel the chill,\n",
      "It's a rollercoaster ride, you know it’s a thrill,\n",
      "Spicy and smooth, it's the ultimate blend,\n",
      "Take a sip, my friend, and start the weekend!\n",
      "\n",
      "(Bridge)\n",
      "Your mouth's on fire, but your soul’s feeling cool,\n",
      "It’s a yin-yang thing, man, don’t be a fool,\n",
      "The heat’s so intense, you think you might cry,\n",
      "But then you’re laughing hard, and you don't know why!\n",
      "\n",
      "(Verse 3)\n",
      "Now you're telling stories, feeling all brave,\n",
      "Thanks to that wasabi saki, you misbehave,\n",
      "Dancing on tables, doing the worm,\n",
      "Wasabi saki’s got you feeling confirmed!\n",
      "\n",
      "(Chorus)\n",
      "Wasabi saki, feel the burn, feel the chill,\n",
      "It's a rollercoaster ride, you know it’s a thrill,\n",
      "Spicy and smooth, it's the ultimate blend,\n",
      "Take a sip, my friend, and start the weekend!\n",
      "\n",
      "(Outro)\n",
      "So next time you’re out and you wanna feel funky,\n",
      "Ask for wasabi saki, it’s the ultimate monkey,\n",
      "On your back, in your mouth, it's a crazy ride,\n",
      "But you’ll never forget it, it’s a point of pride!\n",
      "\n",
      "Wasabi saki, yeah, it’s the way to go,\n",
      "PaRappa out, just wanted you to know!\n"
     ]
    }
   ],
   "source": [
    "print(runnable.invoke({\"topic\": \"wasabi flavoured saki\"}))"
   ]
  },
  {
   "cell_type": "code",
   "execution_count": 11,
   "metadata": {
    "colab": {
     "base_uri": "https://localhost:8080/"
    },
    "executionInfo": {
     "elapsed": 23685,
     "status": "ok",
     "timestamp": 1706244722213,
     "user": {
      "displayName": "Harpreet Sahota",
      "userId": "04881662502078178826"
     },
     "user_tz": 360
    },
    "id": "_3A_EUOxEz2M",
    "outputId": "263dc14f-c68d-40b2-a530-f5b7f32467e8"
   },
   "outputs": [
    {
     "name": "stdout",
     "output_type": "stream",
     "text": [
      "(Verse 1)\n",
      "Yo, it's PaRappa in the house, with a flavor so risky,\n",
      "Got my cup filled up with that wasabi saki.\n",
      "It's green and mean, got me feelin' kinda frisky,\n",
      "One sip too quick, now my nose is gettin' misty.\n",
      "\n",
      "(Chorus)\n",
      "Wasabi saki, feel the burn, y'all,\n",
      "It's like a spicy dragon breathin' fire in the hall.\n",
      "Wasabi saki, take it slow, y'all,\n",
      "One too many sips and you'll be crawlin' up the wall.\n",
      "\n",
      "(Verse 2)\n",
      "Took a shot with my boys, thought I was a samurai,\n",
      "But this wasabi saki made me wanna cry.\n",
      "Eyes watery, face red like a beet,\n",
      "I was dancin' like a fool, couldn't stay on my feet.\n",
      "\n",
      "(Chorus)\n",
      "Wasabi saki, feel the burn, y'all,\n",
      "It's like a spicy dragon breathin' fire in the hall.\n",
      "Wasabi saki, take it slow, y'all,\n",
      "One too many sips and you'll be crawlin' up the wall.\n",
      "\n",
      "(Bridge)\n",
      "Yo, I thought I was tough, thought I could handle the heat,\n",
      "But this wasabi saki knocked me outta my seat.\n",
      "It's a wild ride, like a rollercoaster of fire,\n",
      "Got me singin' these rhymes like a spicy town crier.\n",
      "\n",
      "(Verse 3)\n",
      "Now I'm wiser, keep my sips nice and steady,\n",
      "Wasabi saki, man, you gotta be ready.\n",
      "It's a crazy combo, but it’s kinda unique,\n",
      "Just remember to respect it, or it'll hit you like a freak.\n",
      "\n",
      "(Chorus)\n",
      "Wasabi saki, feel the burn, y'all,\n",
      "It's like a spicy dragon breathin' fire in the hall.\n",
      "Wasabi saki, take it slow, y'all,\n",
      "One too many sips and you'll be crawlin' up the wall.\n",
      "\n",
      "(Outro)\n",
      "So if you’re feelin' brave, go ahead and take a shot,\n",
      "But don’t say I didn't warn ya, 'cause it’s really hot.\n",
      "Wasabi saki, it's a party in your mouth,\n",
      "Just be prepared for the fire to head south!"
     ]
    }
   ],
   "source": [
    "for chunk in runnable.stream({\"topic\": \"wasabi flavoured saki\"}):\n",
    "    print(chunk, end=\"\", flush=True)"
   ]
  },
  {
   "cell_type": "markdown",
   "metadata": {
    "id": "i0dwPLvUwTYz"
   },
   "source": [
    "# 🔄 **Understanding Routing in LangChain**\n",
    "\n",
    "### **Routing Concept**\n",
    "- **Purpose**: Adds structure to interactions with LLMs by guiding the flow based on previous step outcomes.\n",
    "\n",
    "- **Essence**: Determines the next step in a chain dynamically, based on the result of the previous step.\n",
    "\n",
    "### **Methods for Routing**\n",
    "1. ᛘ **RunnableBranch Usage**:\n",
    "   - Manages decision-making for the next step in a chain.\n",
    "\n",
    "2. 🏭 **Custom Factory Function**:\n",
    "   - Crafts a runnable based on previous step input.\n",
    "\n",
    "   - Crucial: The function should only create a runnable, not execute it.\n",
    "\n",
    "### **Example Application**\n",
    "- **Two-Step Sequence**:\n",
    "\n",
    "  - **Step 1**: Classifies a question into categories (literature, history, biology, philosophy, or other).\n",
    "\n",
    "  - **Step 2**: Routes the classified question to a corresponding prompt chain tailored for the identified category.\n",
    "\n",
    "🎯 **Application Goal**: Showcase both routing methods in a practical scenario to enhance interactions with language models."
   ]
  },
  {
   "cell_type": "code",
   "execution_count": 12,
   "metadata": {
    "executionInfo": {
     "elapsed": 332,
     "status": "ok",
     "timestamp": 1706244818254,
     "user": {
      "displayName": "Harpreet Sahota",
      "userId": "04881662502078178826"
     },
     "user_tz": 360
    },
    "id": "9_aARhy9ybL9"
   },
   "outputs": [],
   "source": [
    "from langchain_openai import ChatOpenAI\n",
    "from langchain_core.output_parsers import StrOutputParser\n",
    "from langchain_core.runnables import RunnableBranch\n",
    "\n",
    "# ChatOpenAI(model_name=\"gpt-4o\")\n",
    "\n",
    "literature_template = \"\"\"You are a seasoned literature professor with decades of experience analyzing literary works. \\\n",
    "You have a knack for understanding complex narratives and characters and can provide insights into underlying themes and motifs.\n",
    "\n",
    "Here is a passage or question about a literary work:\n",
    "{input}\n",
    "\"\"\"\n",
    "\n",
    "literature_prompt = PromptTemplate.from_template(literature_template)\n",
    "\n",
    "\n",
    "history_template = \"\"\"You are a historian with extensive knowledge about world history. \\\n",
    "From ancient civilizations to modern times, you can provide context, insights, and explanations about historical events and figures.\n",
    "\n",
    "Here is a question about history:\n",
    "{input}\n",
    "\"\"\"\n",
    "\n",
    "history_prompt = PromptTemplate.from_template(history_template)\n",
    "\n",
    "biology_template = \"\"\"You are a biologist with a passion for understanding the intricacies of life. \\\n",
    "From cellular processes to ecosystem dynamics, you can elucidate biological phenomena with clarity.\n",
    "\n",
    "Here is a question about biology:\n",
    "{input}\n",
    "\"\"\"\n",
    "\n",
    "biology_prompt = PromptTemplate.from_template(biology_template)\n",
    "\n",
    "philosophy_template = \"\"\"You are a philosopher who has studied the great thinkers of the past and present. \\\n",
    "You enjoy discussing ethical dilemmas, existential questions, and the nature of reality.\n",
    "\n",
    "Here is a philosophical query:\n",
    "{input}\n",
    "\"\"\"\n",
    "\n",
    "philosophy_prompt = PromptTemplate.from_template(philosophy_template)\n",
    "\n",
    "general_prompt = PromptTemplate.from_template(\n",
    "    \"You are a helpful assistant. Answer the question as accurately as you can.\\n\\n{input}\"\n",
    ")\n"
   ]
  },
  {
   "cell_type": "markdown",
   "metadata": {
    "id": "kjkUH7xcHaWv"
   },
   "source": [
    "# 🌿 **RunnableBranch Mechanics**\n",
    "\n",
    "1. **Structure**: A list of (condition, runnable) pairs, plus a default runnable.\n",
    "\n",
    "2. **Operation**\n",
    "   - On invocation, sequentially evaluates each condition with the given input.\n",
    "\n",
    "   - Executes the first runnable where its condition is True.\n",
    "   \n",
    "   - If no condition matches, the default runnable is executed.\n",
    "\n",
    "🔍 **Purpose**: Ensures structured decision-making in chain execution, directing the flow based on specific conditions."
   ]
  },
  {
   "cell_type": "code",
   "execution_count": 15,
   "metadata": {
    "executionInfo": {
     "elapsed": 113,
     "status": "ok",
     "timestamp": 1706244867458,
     "user": {
      "displayName": "Harpreet Sahota",
      "userId": "04881662502078178826"
     },
     "user_tz": 360
    },
    "id": "S62nIyacHae2"
   },
   "outputs": [],
   "source": [
    "prompt_branch = RunnableBranch(\n",
    "    (lambda x: x[\"topic\"] == \"literature\", literature_prompt),\n",
    "    (lambda x: x[\"topic\"] == \"history\", history_prompt),\n",
    "    (lambda x: x[\"topic\"] == \"biology\", biology_prompt),\n",
    "    (lambda x: x[\"topic\"] == \"philosophy\", philosophy_prompt),\n",
    "    general_prompt,\n",
    ")"
   ]
  },
  {
   "cell_type": "code",
   "execution_count": 16,
   "metadata": {
    "colab": {
     "base_uri": "https://localhost:8080/"
    },
    "executionInfo": {
     "elapsed": 492,
     "status": "ok",
     "timestamp": 1706244922968,
     "user": {
      "displayName": "Harpreet Sahota",
      "userId": "04881662502078178826"
     },
     "user_tz": 360
    },
    "id": "VIrz7w3ELSD_",
    "outputId": "b3eb5a65-a53c-4560-9f9c-7bb53fe70216"
   },
   "outputs": [
    {
     "name": "stderr",
     "output_type": "stream",
     "text": [
      "/opt/anaconda3/envs/langchain/lib/python3.10/site-packages/langchain_core/_api/deprecation.py:117: LangChainDeprecationWarning: The function `convert_pydantic_to_openai_function` was deprecated in LangChain 0.1.16 and will be removed in 0.2.0. Use langchain_core.utils.function_calling.convert_to_openai_function() instead.\n",
      "  warn_deprecated(\n"
     ]
    },
    {
     "data": {
      "text/plain": [
       "{'name': 'TopicClassifier',\n",
       " 'description': 'Classify the topic of the user question',\n",
       " 'parameters': {'type': 'object',\n",
       "  'properties': {'topic': {'enum': ['literature',\n",
       "     'history',\n",
       "     'biology',\n",
       "     'philosophy'],\n",
       "    'type': 'string'}},\n",
       "  'required': ['topic']}}"
      ]
     },
     "execution_count": 16,
     "metadata": {},
     "output_type": "execute_result"
    }
   ],
   "source": [
    "from typing import Literal\n",
    "from langchain.output_parsers.openai_functions import PydanticAttrOutputFunctionsParser\n",
    "from langchain.utils.openai_functions import convert_pydantic_to_openai_function\n",
    "from langchain_core.pydantic_v1 import BaseModel\n",
    "\n",
    "class TopicClassifier(BaseModel):\n",
    "    \"Classify the topic of the user question\"\n",
    "\n",
    "    topic: Literal[\"literature\", \"history\", \"biology\", \"philosophy\"]\n",
    "    \"The topic of the user question. One of 'literature', 'history', 'biology', 'philosophy', or 'general'.\"\n",
    "\n",
    "\n",
    "classifier_function = convert_pydantic_to_openai_function(TopicClassifier)\n",
    "classifier_function"
   ]
  },
  {
   "cell_type": "code",
   "execution_count": null,
   "metadata": {
    "colab": {
     "base_uri": "https://localhost:8080/"
    },
    "executionInfo": {
     "elapsed": 492,
     "status": "ok",
     "timestamp": 1706244922968,
     "user": {
      "displayName": "Harpreet Sahota",
      "userId": "04881662502078178826"
     },
     "user_tz": 360
    },
    "id": "VIrz7w3ELSD_",
    "outputId": "b3eb5a65-a53c-4560-9f9c-7bb53fe70216"
   },
   "outputs": [
    {
     "name": "stderr",
     "output_type": "stream",
     "text": [
      "/usr/local/lib/python3.10/dist-packages/langchain_core/_api/deprecation.py:117: LangChainDeprecationWarning: The function `convert_pydantic_to_openai_function` was deprecated in LangChain 0.1.16 and will be removed in 0.2.0. Use langchain_core.utils.function_calling.convert_to_openai_function() instead.\n",
      "  warn_deprecated(\n"
     ]
    }
   ],
   "source": [
    "llm = ChatOpenAI(model_name=\"gpt-4o\")\n",
    "\n",
    "llm = llm.bind(\n",
    "    functions=[classifier_function],\n",
    "    function_call={\"name\": \"TopicClassifier\"}\n",
    ")\n",
    "\n",
    "parser = PydanticAttrOutputFunctionsParser(pydantic_schema=TopicClassifier, attr_name=\"topic\" )\n",
    "\n",
    "classifier_chain = llm | parser"
   ]
  },
  {
   "cell_type": "code",
   "execution_count": 14,
   "metadata": {
    "executionInfo": {
     "elapsed": 400,
     "status": "ok",
     "timestamp": 1706244974389,
     "user": {
      "displayName": "Harpreet Sahota",
      "userId": "04881662502078178826"
     },
     "user_tz": 360
    },
    "id": "d8QCPo7wLSJj"
   },
   "outputs": [
    {
     "ename": "NameError",
     "evalue": "name 'classifier_chain' is not defined",
     "output_type": "error",
     "traceback": [
      "\u001b[0;31m---------------------------------------------------------------------------\u001b[0m",
      "\u001b[0;31mNameError\u001b[0m                                 Traceback (most recent call last)",
      "Cell \u001b[0;32mIn[14], line 6\u001b[0m\n\u001b[1;32m      2\u001b[0m \u001b[38;5;28;01mfrom\u001b[39;00m \u001b[38;5;21;01mlangchain_core\u001b[39;00m\u001b[38;5;21;01m.\u001b[39;00m\u001b[38;5;21;01moutput_parsers\u001b[39;00m \u001b[38;5;28;01mimport\u001b[39;00m StrOutputParser\n\u001b[1;32m      3\u001b[0m \u001b[38;5;28;01mfrom\u001b[39;00m \u001b[38;5;21;01mlangchain_core\u001b[39;00m\u001b[38;5;21;01m.\u001b[39;00m\u001b[38;5;21;01mrunnables\u001b[39;00m \u001b[38;5;28;01mimport\u001b[39;00m RunnablePassthrough\n\u001b[1;32m      5\u001b[0m final_chain \u001b[38;5;241m=\u001b[39m (\n\u001b[0;32m----> 6\u001b[0m     RunnablePassthrough\u001b[38;5;241m.\u001b[39massign(topic\u001b[38;5;241m=\u001b[39mitemgetter(\u001b[38;5;124m\"\u001b[39m\u001b[38;5;124minput\u001b[39m\u001b[38;5;124m\"\u001b[39m) \u001b[38;5;241m|\u001b[39m \u001b[43mclassifier_chain\u001b[49m)\n\u001b[1;32m      7\u001b[0m     \u001b[38;5;241m|\u001b[39m prompt_branch\n\u001b[1;32m      8\u001b[0m     \u001b[38;5;241m|\u001b[39m ChatOpenAI(model_name\u001b[38;5;241m=\u001b[39m\u001b[38;5;124m\"\u001b[39m\u001b[38;5;124mgpt-4o\u001b[39m\u001b[38;5;124m\"\u001b[39m)\n\u001b[1;32m      9\u001b[0m     \u001b[38;5;241m|\u001b[39m StrOutputParser()\n\u001b[1;32m     10\u001b[0m )\n",
      "\u001b[0;31mNameError\u001b[0m: name 'classifier_chain' is not defined"
     ]
    }
   ],
   "source": [
    "from operator import itemgetter\n",
    "from langchain_core.output_parsers import StrOutputParser\n",
    "from langchain_core.runnables import RunnablePassthrough\n",
    "\n",
    "final_chain = (\n",
    "    RunnablePassthrough.assign(topic=itemgetter(\"input\") | classifier_chain)\n",
    "    | prompt_branch\n",
    "    | ChatOpenAI(model_name=\"gpt-4o\")\n",
    "    | StrOutputParser()\n",
    ")"
   ]
  },
  {
   "cell_type": "code",
   "execution_count": null,
   "metadata": {
    "id": "ti_eKCs_LSO7"
   },
   "outputs": [],
   "source": [
    "final_chain.invoke({\"input\": \"Describe the Stoic philosophy for a good life.\"})"
   ]
  },
  {
   "cell_type": "code",
   "execution_count": 16,
   "metadata": {
    "colab": {
     "base_uri": "https://localhost:8080/"
    },
    "executionInfo": {
     "elapsed": 34125,
     "status": "ok",
     "timestamp": 1706245088878,
     "user": {
      "displayName": "Harpreet Sahota",
      "userId": "04881662502078178826"
     },
     "user_tz": 360
    },
    "id": "6ifOurTtIG0c",
    "outputId": "cd16d12e-6b50-4853-ccb0-16ac63fa3603"
   },
   "outputs": [
    {
     "name": "stdout",
     "output_type": "stream",
     "text": [
      "Stoic philosophy, originating in ancient Greece and later developed in Rome, is a school of thought that teaches the development of self-control and fortitude as a means of overcoming destructive emotions. It is not merely an intellectual enterprise but a way of life, emphasizing ethics as the main focus of human knowledge. Stoicism outlines a path to personal happiness and wisdom, which is achieved through understanding the workings of the universe and our place within it. \n",
      "\n",
      "At the heart of Stoic philosophy for a good life are several key principles:\n",
      "\n",
      "1. **Understanding What is in Our Control**: The Stoics distinguish between what is in our control and what is not. According to Epictetus, one of the most prominent Stoic philosophers, things in our control include our own opinions, impulses, desires, and aversions. Everything else, including our bodies, possessions, and reputations, is not truly ours and not in our control. Recognizing this distinction helps individuals focus on their own actions and attitudes, leading to inner peace and resilience.\n",
      "\n",
      "2. **Living According to Nature**: Stoics believe that living in agreement with nature means understanding the rational structure of the universe and living in accordance with it. This entails recognizing our nature as rational beings and living a life of virtue, which is the sole good in Stoic philosophy. Virtue consists of wisdom, courage, justice, and moderation.\n",
      "\n",
      "3. **The Four Cardinal Virtues**: Stoicism holds that a good life is achieved through the practice of the four cardinal virtues. Wisdom or prudence is the knowledge of what we should do, what we should not do, and what is neither. Courage is not merely physical bravery but the strength to face any situation, particularly adversity, with confidence and valour. Justice involves dealing fairly and equitably with others, acting with integrity, and performing one's roles in society well. Temperance or moderation is the self-control and discipline over one's desires and impulses.\n",
      "\n",
      "4. **Emotional Resilience through Rationality**: Stoics aim for apatheia, a state of tranquillity arising from the absence of irrational or harmful emotions. This doesn't mean the absence of all feelings, but rather freedom from the negative emotions that arise from poor judgments and attachments to things beyond our control. By using reason, we can reassess our impressions of events, recognizing that external events in themselves do not cause distress, but our judgments about them do.\n",
      "\n",
      "5. **The Dichotomy of Control**: A core Stoic practice is to continually remind oneself of the difference between what is within our control and what is not. This awareness encourages a focus on our own actions and responses, leading to a reduction in suffering and frustration with external circumstances.\n",
      "\n",
      "6. **Cosmopolitanism**: The Stoics were early proponents of cosmopolitanism—the idea that all human beings, regardless of their social, racial, or political divisions, belong to a single community. They advocated for understanding and compassion towards all people, emphasizing that we should live not just for ourselves, but for the wellbeing of the global community.\n",
      "\n",
      "7. **Acceptance and Amor Fati**: Stoicism teaches acceptance of everything that happens, seeing it as part of a rational order in the universe. Amor fati, the love of fate, is a Stoic principle that encourages us to embrace whatever life throws at us, not merely to bear it as a necessary evil but to love it and see it as something that was meant for us.\n",
      "\n",
      "Living a good life, according to Stoicism, is thus about cultivating virtue, exercising rational judgment, and maintaining emotional equilibrium through the ups and downs of life. It’s about recognizing what truly matters, focusing on our own character and actions, and embracing our place within the broader community and the natural world."
     ]
    }
   ],
   "source": [
    "for chunk in final_chain.stream({\"input\": \"Describe the Stoic philosophy for a good life.\"}):\n",
    "    print(chunk, end=\"\", flush=True)"
   ]
  },
  {
   "cell_type": "markdown",
   "metadata": {
    "id": "bzfm_z1c4pTT"
   },
   "source": [
    "# 🧬 Sequential Chains\n",
    "\n",
    "**Basics of Sequential Chains:**\n",
    "\n",
    "- Sequential chains are for when you need one language model's output to become another's input.\n",
    "- They're like an assembly line, where each step's result is the starting point for the next.\n"
   ]
  },
  {
   "cell_type": "code",
   "execution_count": 17,
   "metadata": {
    "executionInfo": {
     "elapsed": 499,
     "status": "ok",
     "timestamp": 1706245244286,
     "user": {
      "displayName": "Harpreet Sahota",
      "userId": "04881662502078178826"
     },
     "user_tz": 360
    },
    "id": "t6eQg6SZVb2G"
   },
   "outputs": [],
   "source": [
    "from langchain_openai import ChatOpenAI\n",
    "from langchain.prompts import PromptTemplate\n",
    "from langchain.schema import StrOutputParser\n",
    "\n",
    "# Initialize the language model\n",
    "llm = ChatOpenAI(model_name=\"gpt-4o\")\n",
    "\n",
    "# Template for the initial rap\n",
    "template_one = \"\"\"\n",
    "You are a Punjabi Jatt rapper, like AP Dhillon or Sidhu Moosewala.\n",
    "\n",
    "Given a topic, it is your job to spit bars of hard-hitting, gritty, dope rap.\n",
    "\n",
    "Topic: {topic}\n",
    "\n",
    "Rap:\n",
    "\"\"\"\n",
    "\n",
    "# Template for the diss track\n",
    "template_two = \"\"\"\n",
    "You are an extremely competitive Punjabi Rapper.\n",
    "\n",
    "Given the rap from another rapper, it's your job to write a diss track which\n",
    "tears apart the rap and shames the original rapper.\n",
    "\n",
    "Rap:\n",
    "{rap}\n",
    "\"\"\"\n",
    "\n",
    "# Create prompt templates from the defined templates\n",
    "prompt_template_one = PromptTemplate.from_template(template_one)\n",
    "prompt_template_two = PromptTemplate.from_template(template_two)\n",
    "\n",
    "# Define the operation chain\n",
    "chain = (\n",
    "    {\"rap\": prompt_template_one | llm | StrOutputParser()}\n",
    "    | prompt_template_two\n",
    "    | llm\n",
    "    | StrOutputParser()\n",
    ")\n"
   ]
  },
  {
   "cell_type": "code",
   "execution_count": null,
   "metadata": {
    "id": "dewp-fH2W4jp"
   },
   "outputs": [],
   "source": [
    "chain.invoke({\"topic\": \"Drinking Crown Royal and mobbin in my red Challenger\"})"
   ]
  },
  {
   "cell_type": "code",
   "execution_count": 19,
   "metadata": {
    "colab": {
     "base_uri": "https://localhost:8080/"
    },
    "executionInfo": {
     "elapsed": 37357,
     "status": "ok",
     "timestamp": 1706245315289,
     "user": {
      "displayName": "Harpreet Sahota",
      "userId": "04881662502078178826"
     },
     "user_tz": 360
    },
    "id": "ADgrDDqkW4uD",
    "outputId": "ddf2ce79-9d0c-472b-c381-0f3740a50999"
   },
   "outputs": [
    {
     "name": "stdout",
     "output_type": "stream",
     "text": [
      "Aye, hold up, let me break it down, real quick,\n",
      "\n",
      "Rollin' through these verses, found nothing but a gimmick,\n",
      "Talkin' 'bout your Challenger, but bro, where's the spirit?\n",
      "Sip that Crown Royal, but it don't improve your lyric,\n",
      "Punjabi Rapper on the throne? Nah, sit back, let's clear it.\n",
      "\n",
      "You're cruisin' down the streets, in that red ride, you flaunt,\n",
      "But your rhymes lack the depth, it's the substance we want.\n",
      "Mobbin' with your crew, under city lights, you haunt,\n",
      "But here comes the Punjabi King, it's your dreams I daunt.\n",
      "\n",
      "Chrome wheels, red paint, you think it's all so blinding,\n",
      "But beneath the flashy exterior, it's the soul we're finding.\n",
      "Talk victories and tales, but your narrative's unwinding,\n",
      "Against my verses, your words, they're just grinding.\n",
      "\n",
      "From Punjab to the streets, you claim to make asphalt sing,\n",
      "But here I am, the real Jatt, in this rap ring.\n",
      "Your Challenger, your Crown, to me, they don't mean a thing,\n",
      "It's the heart of the battle, where my words sting.\n",
      "\n",
      "You mob deep, thrive, legends in your sip,\n",
      "But against my flow, you're just a blip.\n",
      "Your chariot, your throne, you think you've got a grip,\n",
      "But watch as from your pedestal, you slip.\n",
      "\n",
      "Hustle and storms, you say you ride through,\n",
      "But it's the grit, the grind, the real, you misconstrue.\n",
      "An ace in the game of life? That's a view askew,\n",
      "For in this battle of bars, I'm the storm you never knew.\n",
      "\n",
      "To nights of dreams, schemes, and Crown Royal cheers,\n",
      "You've played your hand, but it's my victory that nears.\n",
      "Chasing beams in your Challenger, shifting gears,\n",
      "But I'm the comet in the sky, igniting your fears.\n",
      "\n",
      "So here's to the real, to the raw, to the street's means,\n",
      "I'm the Punjabi Rapper, shattering your dreams.\n",
      "Beyond the means, your narrative leans,\n",
      "But I'm the legend, in the rap scene, I reign supreme."
     ]
    }
   ],
   "source": [
    "for chunk in chain.stream({\"topic\": \"Drinking Crown Royal and mobbin in my red Challenger\"}):\n",
    "    print(chunk, end=\"\", flush=True)"
   ]
  },
  {
   "cell_type": "markdown",
   "metadata": {
    "id": "xn-XNgA7W971"
   },
   "source": [
    "# 🔄 **Transformation in Component Chains**\n",
    "\n",
    "🔧 **Role of Transformation**:\n",
    "   - Adjusts inputs as they transition between different components.\n",
    "\n",
    "🌟 **Example Scenario**:\n",
    "   - **Task**: Handle a lengthy text.\n",
    "   - **Transformation**: Filter to retain only the first three paragraphs.\n",
    "   - **Next Steps**: Pass the shortened text through a series of steps for summarization.\n",
    "\n",
    "🎯 **Goal**: Demonstrates how transformations can effectively tailor inputs for specific processing needs in a component chain."
   ]
  },
  {
   "cell_type": "code",
   "execution_count": 20,
   "metadata": {
    "colab": {
     "base_uri": "https://localhost:8080/"
    },
    "executionInfo": {
     "elapsed": 615,
     "status": "ok",
     "timestamp": 1706245365005,
     "user": {
      "displayName": "Harpreet Sahota",
      "userId": "04881662502078178826"
     },
     "user_tz": 360
    },
    "id": "4gNRBkSkV_x-",
    "outputId": "d229490a-e9bb-4b4d-d735-ed70f58040ca"
   },
   "outputs": [
    {
     "name": "stdout",
     "output_type": "stream",
     "text": [
      "--2024-01-26 05:02:44--  https://www.gutenberg.org/files/2680/2680-0.txt\n",
      "Resolving www.gutenberg.org (www.gutenberg.org)... 152.19.134.47, 2610:28:3090:3000:0:bad:cafe:47\n",
      "Connecting to www.gutenberg.org (www.gutenberg.org)|152.19.134.47|:443... connected.\n",
      "HTTP request sent, awaiting response... 200 OK\n",
      "Length: 425351 (415K) [text/plain]\n",
      "Saving to: ‘2680-0.txt’\n",
      "\n",
      "2680-0.txt          100%[===================>] 415.38K  --.-KB/s    in 0.1s    \n",
      "\n",
      "2024-01-26 05:02:44 (2.86 MB/s) - ‘2680-0.txt’ saved [425351/425351]\n",
      "\n"
     ]
    }
   ],
   "source": [
    "!wget https://www.gutenberg.org/files/2680/2680-0.txt\n",
    "\n",
    "with open(\"/content/2680-0.txt\") as f:\n",
    "    meditations = f.read()"
   ]
  },
  {
   "cell_type": "code",
   "execution_count": 22,
   "metadata": {
    "colab": {
     "base_uri": "https://localhost:8080/",
     "height": 196
    },
    "executionInfo": {
     "elapsed": 11236,
     "status": "ok",
     "timestamp": 1706245466787,
     "user": {
      "displayName": "Harpreet Sahota",
      "userId": "04881662502078178826"
     },
     "user_tz": 360
    },
    "id": "WFDBXGhAYnRh",
    "outputId": "6cb6d9a7-0760-4153-83c5-970b091aaab7"
   },
   "outputs": [
    {
     "data": {
      "application/vnd.google.colaboratory.intrinsic+json": {
       "type": "string"
      },
      "text/plain": [
       "'The text emphasizes the importance of living a life of integrity, virtue, and mindfulness, grounded in Stoic philosophy. It encourages acting with gravity, affection, freedom, and justice, and suggests that one should approach every action as if it were their last, free from vanity, irrational passion, hypocrisy, and self-love. It underscores the significance of self-reliance for happiness and advises against being distracted by external events or seeking validation from others. The text also highlights the importance of having a purpose and not wandering aimlessly through life. It suggests that sins committed through lust are worse than those committed through anger, as they reveal a lack of self-control. The notion that death should not be feared if one lives in accordance with nature is reiterated, with the reasoning that either the gods will look after us after death, or if there are no gods, there is no reason to live in a godless world. The text also contemplates the transient nature of life and the universe, urging the reader to reflect on the true value of worldly possessions and the opinions of others. It concludes by contemplating the connection between humans and the divine, and the nature of the soul.'"
      ]
     },
     "execution_count": 22,
     "metadata": {},
     "output_type": "execute_result"
    }
   ],
   "source": [
    "from langchain.schema import StrOutputParser\n",
    "from langchain_openai import ChatOpenAI\n",
    "from langchain.prompts import PromptTemplate\n",
    "\n",
    "prompt = PromptTemplate.from_template(\"\"\"Summarize this text: {output_text} Summary:\"\"\")\n",
    "\n",
    "runnable = (\n",
    "    {\"output_text\": lambda text: \"\\n\".join(text.split(\"\\n\")[921:1021])}\n",
    "    | prompt\n",
    "    | ChatOpenAI(model_name=\"gpt-4o\")\n",
    "    | StrOutputParser()\n",
    ")\n",
    "runnable.invoke(meditations)"
   ]
  },
  {
   "cell_type": "code",
   "execution_count": 23,
   "metadata": {
    "colab": {
     "base_uri": "https://localhost:8080/",
     "height": 196
    },
    "executionInfo": {
     "elapsed": 30489,
     "status": "ok",
     "timestamp": 1706245524443,
     "user": {
      "displayName": "Harpreet Sahota",
      "userId": "04881662502078178826"
     },
     "user_tz": 360
    },
    "id": "lEyaXrcUWCDv",
    "outputId": "c52e634f-6cc8-4410-e431-964040b95748"
   },
   "outputs": [
    {
     "data": {
      "application/vnd.google.colaboratory.intrinsic+json": {
       "type": "string"
      },
      "text/plain": [
       "\"II. Yo, focus on being real as a Roman, as a dude, doing your thing with deep seriousness, love, freedom, and fairness. Forget all that other noise in your head about easing your mind. You got this if you treat every move like it's your last, cutting out all the fake stuff, all emotional and stubborn deviations from reason, and all that faking and self-love. You gotta let go of hating what fate or the big man upstairs throws at you. There ain't much required to keep on a winning streak and live that godly life, 'cause the gods ain't asking for more than just sticking to these rules.\\n\\nIII. Do your thing, soul, trash and disrespect yourself; but remember, time's running out for self-respect. Your happiness is on you, but here you are, life slipping away, playing yourself, thinking your joy comes from what others think.\\n\\nIV. Why let the outside stuff mess with you so bad? Take a minute to learn something solid and stop wandering around aimlessly. Watch out for that other kind of wandering, too, where people bust their backs in life without any real goal or desire guiding them. Remember, hardly anyone gets unhappy by minding their own business and not sweating what's in another person's soul. Those who don't steer their soul with reason are bound to be miserable.\\n\\nVI. Keep these in your mind: What's the universe about, and what's your role in it? How do you fit into the grand scheme, and remember, nobody can stop you from acting and speaking in harmony with your true nature.\\n\\nVII. Theophrastus, like a true philosopher, said that sins done in lust are worse than those done in anger. Anger might show someone turning away from reason out of pain, but giving into pleasure shows a weaker, less manly vibe. So, he argues, falling for pleasure is worse than reacting in anger, 'cause at least the angry dude was provoked first.\\n\\nVIII. Whatever you're into, whatever your plans, roll with them like you might peace out any second. And about death, if there are gods, they won't do you dirty. If there aren't, or they don't care, why stick around in a godless scene? But hey, there are gods, and they do look out for us. They've given us the power to dodge the truly nasty stuff, like vice. If there was anything else really bad, they'd help us avoid that too. So why sweat what doesn't change who you are? The universe ain't messed up enough to let the good and bad happen without reason. As for life, death, props, dissing, work, fun, riches, broke times, they hit everyone the same, but they don't define us.\\n\\nIX. Think about how quickly everything breaks down and goes back to the earth, and memories fade into time. Reflect on the nature of all the flashy, tempting, or annoying stuff out there – how empty, fleeting, and lifeless they really are.\\n\\nX. If you're smart, you'll think about who's really handing out props and what dying actually means. Strip death of all the drama, and it's just nature doing its thing. Being scared of nature's work is kid stuff. Death? It's natural and even helpful.\\n\\nXI. Consider how we connect with the divine, and how that divine bit in us feels when it's spread out. Nothing's more pitiful than a soul lost, roaming everything, looking for something it can't even name.\""
      ]
     },
     "execution_count": 23,
     "metadata": {},
     "output_type": "execute_result"
    }
   ],
   "source": [
    "rephrase = PromptTemplate.from_template(\"\"\"Rephrase this text: {output_text}\n",
    "In the style of a 90s gangster rapper passionately speaking to his homies.\n",
    "Rephrased:\"\"\")\n",
    "\n",
    "runnable = (\n",
    "    {\"output_text\": lambda text: \"\\n\".join(text.split(\"\\n\")[921:1021])}\n",
    "    | rephrase\n",
    "    | ChatOpenAI(model_name=\"gpt-4o\")\n",
    "    | StrOutputParser()\n",
    ")\n",
    "\n",
    "runnable.invoke(meditations)"
   ]
  },
  {
   "cell_type": "code",
   "execution_count": null,
   "metadata": {
    "id": "j6tXuEVXKBOm"
   },
   "outputs": [],
   "source": []
  }
 ],
 "metadata": {
  "colab": {
   "authorship_tag": "ABX9TyP+8mavBZskonsqEd3nSqGs",
   "provenance": []
  },
  "kernelspec": {
   "display_name": "Python 3 (ipykernel)",
   "language": "python",
   "name": "python3"
  },
  "language_info": {
   "codemirror_mode": {
    "name": "ipython",
    "version": 3
   },
   "file_extension": ".py",
   "mimetype": "text/x-python",
   "name": "python",
   "nbconvert_exporter": "python",
   "pygments_lexer": "ipython3",
   "version": "3.10.0"
  }
 },
 "nbformat": 4,
 "nbformat_minor": 4
}
